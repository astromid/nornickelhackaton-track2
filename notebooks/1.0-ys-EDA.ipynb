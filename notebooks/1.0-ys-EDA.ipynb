{
 "cells": [
  {
   "cell_type": "code",
   "execution_count": 1,
   "id": "7f107e60-80de-449e-8e90-a72ef4181006",
   "metadata": {},
   "outputs": [],
   "source": [
    "from pathlib import Path\n",
    "\n",
    "import numpy as np\n",
    "import pandas as pd\n",
    "import matplotlib.pyplot as plt\n",
    "import seaborn as sns\n",
    "sns.set()\n",
    "\n",
    "from pandas_profiling import ProfileReport"
   ]
  },
  {
   "cell_type": "code",
   "execution_count": 2,
   "id": "e0ef8fbf-49c5-4a84-932c-71744589f3c6",
   "metadata": {},
   "outputs": [],
   "source": [
    "DATA_PATH = Path('../data/raw/')"
   ]
  },
  {
   "cell_type": "markdown",
   "id": "e7227e01-16bf-4258-8067-b18101a0ff84",
   "metadata": {},
   "source": [
    "# Employee"
   ]
  },
  {
   "cell_type": "code",
   "execution_count": 3,
   "id": "a0a753a4-a0da-4ef2-9ada-adae84d158a6",
   "metadata": {},
   "outputs": [],
   "source": [
    "employee_df = pd.read_csv(DATA_PATH / 'sotrudniki.csv', sep=';', parse_dates=['date'])"
   ]
  },
  {
   "cell_type": "code",
   "execution_count": 4,
   "id": "ef7f8dd6-0ba2-4580-8242-9036ffa55a03",
   "metadata": {},
   "outputs": [
    {
     "data": {
      "text/html": [
       "<div>\n",
       "<style scoped>\n",
       "    .dataframe tbody tr th:only-of-type {\n",
       "        vertical-align: middle;\n",
       "    }\n",
       "\n",
       "    .dataframe tbody tr th {\n",
       "        vertical-align: top;\n",
       "    }\n",
       "\n",
       "    .dataframe thead th {\n",
       "        text-align: right;\n",
       "    }\n",
       "</style>\n",
       "<table border=\"1\" class=\"dataframe\">\n",
       "  <thead>\n",
       "    <tr style=\"text-align: right;\">\n",
       "      <th></th>\n",
       "      <th>hash_tab_num</th>\n",
       "      <th>date</th>\n",
       "      <th>date_of_birth</th>\n",
       "      <th>is_local</th>\n",
       "      <th>gender</th>\n",
       "      <th>category</th>\n",
       "      <th>name_post_lvl4</th>\n",
       "      <th>name_post_lvl5</th>\n",
       "      <th>prof_post_augment</th>\n",
       "      <th>razryad_post</th>\n",
       "      <th>...</th>\n",
       "      <th>razryad_fact</th>\n",
       "      <th>married</th>\n",
       "      <th>child_num</th>\n",
       "      <th>work_experience_company</th>\n",
       "      <th>work_experience_factory</th>\n",
       "      <th>work_experience_all</th>\n",
       "      <th>education</th>\n",
       "      <th>sick</th>\n",
       "      <th>home_to_work_distance</th>\n",
       "      <th>home_to_work_duration</th>\n",
       "    </tr>\n",
       "  </thead>\n",
       "  <tbody>\n",
       "    <tr>\n",
       "      <th>0</th>\n",
       "      <td>0</td>\n",
       "      <td>2015-04-01</td>\n",
       "      <td>1985</td>\n",
       "      <td>1</td>\n",
       "      <td>мужской</td>\n",
       "      <td>Рабочие</td>\n",
       "      <td>NaN</td>\n",
       "      <td>NaN</td>\n",
       "      <td>Должность_0</td>\n",
       "      <td>3</td>\n",
       "      <td>...</td>\n",
       "      <td>3</td>\n",
       "      <td>хол/нз</td>\n",
       "      <td>1</td>\n",
       "      <td>9.0</td>\n",
       "      <td>9.0</td>\n",
       "      <td>10.0</td>\n",
       "      <td>Среднее(полное)общее</td>\n",
       "      <td>0</td>\n",
       "      <td>NaN</td>\n",
       "      <td>NaN</td>\n",
       "    </tr>\n",
       "    <tr>\n",
       "      <th>1</th>\n",
       "      <td>0</td>\n",
       "      <td>2015-05-01</td>\n",
       "      <td>1985</td>\n",
       "      <td>1</td>\n",
       "      <td>мужской</td>\n",
       "      <td>Рабочие</td>\n",
       "      <td>NaN</td>\n",
       "      <td>NaN</td>\n",
       "      <td>Должность_0</td>\n",
       "      <td>3</td>\n",
       "      <td>...</td>\n",
       "      <td>3</td>\n",
       "      <td>хол/нз</td>\n",
       "      <td>1</td>\n",
       "      <td>9.0</td>\n",
       "      <td>9.0</td>\n",
       "      <td>10.0</td>\n",
       "      <td>Среднее(полное)общее</td>\n",
       "      <td>0</td>\n",
       "      <td>NaN</td>\n",
       "      <td>NaN</td>\n",
       "    </tr>\n",
       "    <tr>\n",
       "      <th>2</th>\n",
       "      <td>0</td>\n",
       "      <td>2015-06-01</td>\n",
       "      <td>1985</td>\n",
       "      <td>1</td>\n",
       "      <td>мужской</td>\n",
       "      <td>Рабочие</td>\n",
       "      <td>NaN</td>\n",
       "      <td>NaN</td>\n",
       "      <td>Должность_0</td>\n",
       "      <td>3</td>\n",
       "      <td>...</td>\n",
       "      <td>3</td>\n",
       "      <td>хол/нз</td>\n",
       "      <td>1</td>\n",
       "      <td>9.0</td>\n",
       "      <td>9.0</td>\n",
       "      <td>10.0</td>\n",
       "      <td>Среднее(полное)общее</td>\n",
       "      <td>0</td>\n",
       "      <td>NaN</td>\n",
       "      <td>NaN</td>\n",
       "    </tr>\n",
       "    <tr>\n",
       "      <th>3</th>\n",
       "      <td>0</td>\n",
       "      <td>2015-07-01</td>\n",
       "      <td>1985</td>\n",
       "      <td>1</td>\n",
       "      <td>мужской</td>\n",
       "      <td>Рабочие</td>\n",
       "      <td>NaN</td>\n",
       "      <td>NaN</td>\n",
       "      <td>Должность_0</td>\n",
       "      <td>3</td>\n",
       "      <td>...</td>\n",
       "      <td>3</td>\n",
       "      <td>хол/нз</td>\n",
       "      <td>1</td>\n",
       "      <td>9.0</td>\n",
       "      <td>9.0</td>\n",
       "      <td>10.0</td>\n",
       "      <td>Среднее(полное)общее</td>\n",
       "      <td>0</td>\n",
       "      <td>NaN</td>\n",
       "      <td>NaN</td>\n",
       "    </tr>\n",
       "    <tr>\n",
       "      <th>4</th>\n",
       "      <td>0</td>\n",
       "      <td>2015-08-01</td>\n",
       "      <td>1985</td>\n",
       "      <td>1</td>\n",
       "      <td>мужской</td>\n",
       "      <td>Рабочие</td>\n",
       "      <td>NaN</td>\n",
       "      <td>NaN</td>\n",
       "      <td>Должность_0</td>\n",
       "      <td>3</td>\n",
       "      <td>...</td>\n",
       "      <td>3</td>\n",
       "      <td>хол/нз</td>\n",
       "      <td>1</td>\n",
       "      <td>9.0</td>\n",
       "      <td>9.0</td>\n",
       "      <td>10.0</td>\n",
       "      <td>Среднее(полное)общее</td>\n",
       "      <td>0</td>\n",
       "      <td>NaN</td>\n",
       "      <td>NaN</td>\n",
       "    </tr>\n",
       "  </tbody>\n",
       "</table>\n",
       "<p>5 rows × 23 columns</p>\n",
       "</div>"
      ],
      "text/plain": [
       "   hash_tab_num       date  date_of_birth  is_local   gender category  \\\n",
       "0             0 2015-04-01           1985         1  мужской  Рабочие   \n",
       "1             0 2015-05-01           1985         1  мужской  Рабочие   \n",
       "2             0 2015-06-01           1985         1  мужской  Рабочие   \n",
       "3             0 2015-07-01           1985         1  мужской  Рабочие   \n",
       "4             0 2015-08-01           1985         1  мужской  Рабочие   \n",
       "\n",
       "  name_post_lvl4 name_post_lvl5 prof_post_augment  razryad_post  ...  \\\n",
       "0            NaN            NaN       Должность_0             3  ...   \n",
       "1            NaN            NaN       Должность_0             3  ...   \n",
       "2            NaN            NaN       Должность_0             3  ...   \n",
       "3            NaN            NaN       Должность_0             3  ...   \n",
       "4            NaN            NaN       Должность_0             3  ...   \n",
       "\n",
       "  razryad_fact married child_num  work_experience_company  \\\n",
       "0            3  хол/нз         1                      9.0   \n",
       "1            3  хол/нз         1                      9.0   \n",
       "2            3  хол/нз         1                      9.0   \n",
       "3            3  хол/нз         1                      9.0   \n",
       "4            3  хол/нз         1                      9.0   \n",
       "\n",
       "  work_experience_factory  work_experience_all             education  sick  \\\n",
       "0                     9.0                 10.0  Среднее(полное)общее     0   \n",
       "1                     9.0                 10.0  Среднее(полное)общее     0   \n",
       "2                     9.0                 10.0  Среднее(полное)общее     0   \n",
       "3                     9.0                 10.0  Среднее(полное)общее     0   \n",
       "4                     9.0                 10.0  Среднее(полное)общее     0   \n",
       "\n",
       "   home_to_work_distance home_to_work_duration  \n",
       "0                    NaN                   NaN  \n",
       "1                    NaN                   NaN  \n",
       "2                    NaN                   NaN  \n",
       "3                    NaN                   NaN  \n",
       "4                    NaN                   NaN  \n",
       "\n",
       "[5 rows x 23 columns]"
      ]
     },
     "execution_count": 4,
     "metadata": {},
     "output_type": "execute_result"
    }
   ],
   "source": [
    "employee_df.head()"
   ]
  },
  {
   "cell_type": "code",
   "execution_count": 5,
   "id": "e6485cb4-a0cc-4ba0-842f-a8fda3b14cf2",
   "metadata": {},
   "outputs": [
    {
     "name": "stdout",
     "output_type": "stream",
     "text": [
      "<class 'pandas.core.frame.DataFrame'>\n",
      "RangeIndex: 99214 entries, 0 to 99213\n",
      "Data columns (total 23 columns):\n",
      " #   Column                   Non-Null Count  Dtype         \n",
      "---  ------                   --------------  -----         \n",
      " 0   hash_tab_num             99214 non-null  int64         \n",
      " 1   date                     99214 non-null  datetime64[ns]\n",
      " 2   date_of_birth            99214 non-null  int64         \n",
      " 3   is_local                 99214 non-null  int64         \n",
      " 4   gender                   99214 non-null  object        \n",
      " 5   category                 97944 non-null  object        \n",
      " 6   name_post_lvl4           66188 non-null  object        \n",
      " 7   name_post_lvl5           54222 non-null  object        \n",
      " 8   prof_post_augment        97944 non-null  object        \n",
      " 9   razryad_post             99214 non-null  int64         \n",
      " 10  name_fact_lvl4           66150 non-null  object        \n",
      " 11  name_fact_lvl5           54188 non-null  object        \n",
      " 12  prof_fact_augment        99214 non-null  object        \n",
      " 13  razryad_fact             99214 non-null  int64         \n",
      " 14  married                  86724 non-null  object        \n",
      " 15  child_num                99214 non-null  int64         \n",
      " 16  work_experience_company  91553 non-null  float64       \n",
      " 17  work_experience_factory  91553 non-null  float64       \n",
      " 18  work_experience_all      91553 non-null  float64       \n",
      " 19  education                99034 non-null  object        \n",
      " 20  sick                     99214 non-null  int64         \n",
      " 21  home_to_work_distance    89528 non-null  float64       \n",
      " 22  home_to_work_duration    89528 non-null  float64       \n",
      "dtypes: datetime64[ns](1), float64(5), int64(7), object(10)\n",
      "memory usage: 17.4+ MB\n"
     ]
    }
   ],
   "source": [
    "employee_df.info()"
   ]
  },
  {
   "cell_type": "code",
   "execution_count": 6,
   "id": "5493267d-024c-4970-862d-4c6ee6c0291f",
   "metadata": {},
   "outputs": [
    {
     "data": {
      "application/vnd.jupyter.widget-view+json": {
       "model_id": "eab347d346ce4063b43d93d7d6286768",
       "version_major": 2,
       "version_minor": 0
      },
      "text/plain": [
       "Summarize dataset:   0%|          | 0/36 [00:00<?, ?it/s]"
      ]
     },
     "metadata": {},
     "output_type": "display_data"
    },
    {
     "name": "stderr",
     "output_type": "stream",
     "text": [
      "/home/ybudakyan/miniconda3/envs/nornikel/lib/python3.8/site-packages/scipy/stats/stats.py:4594: RuntimeWarning: overflow encountered in long_scalars\n",
      "  (2 * xtie * ytie) / m + x0 * y0 / (9 * m * (size - 2)))\n"
     ]
    },
    {
     "data": {
      "application/vnd.jupyter.widget-view+json": {
       "model_id": "fdf37180d93641f9a9b263ab47a790de",
       "version_major": 2,
       "version_minor": 0
      },
      "text/plain": [
       "Generate report structure:   0%|          | 0/1 [00:00<?, ?it/s]"
      ]
     },
     "metadata": {},
     "output_type": "display_data"
    },
    {
     "data": {
      "application/vnd.jupyter.widget-view+json": {
       "model_id": "",
       "version_major": 2,
       "version_minor": 0
      },
      "text/plain": [
       "Render widgets:   0%|          | 0/1 [00:00<?, ?it/s]"
      ]
     },
     "metadata": {},
     "output_type": "display_data"
    },
    {
     "data": {
      "application/vnd.jupyter.widget-view+json": {
       "model_id": "9ca04e9d345445ae9f28471be0d08b49",
       "version_major": 2,
       "version_minor": 0
      },
      "text/plain": [
       "VBox(children=(Tab(children=(Tab(children=(GridBox(children=(VBox(children=(GridspecLayout(children=(HTML(valu…"
      ]
     },
     "metadata": {},
     "output_type": "display_data"
    }
   ],
   "source": [
    "profile = ProfileReport(employee_df, title='Employees dataframe')\n",
    "profile.to_widgets()"
   ]
  },
  {
   "cell_type": "markdown",
   "id": "0c045648-c5b4-42ca-a6ac-63493272d29e",
   "metadata": {},
   "source": [
    "# Relatives"
   ]
  },
  {
   "cell_type": "code",
   "execution_count": 7,
   "id": "5d63be03-1643-44b8-b2e8-6cce04fd91f8",
   "metadata": {},
   "outputs": [],
   "source": [
    "relatives_df = pd.read_csv(DATA_PATH / 'rodstvenniki.csv', sep=';')"
   ]
  },
  {
   "cell_type": "code",
   "execution_count": 8,
   "id": "31fb0893-eec8-4141-bf36-b8349e588761",
   "metadata": {},
   "outputs": [
    {
     "data": {
      "text/html": [
       "<div>\n",
       "<style scoped>\n",
       "    .dataframe tbody tr th:only-of-type {\n",
       "        vertical-align: middle;\n",
       "    }\n",
       "\n",
       "    .dataframe tbody tr th {\n",
       "        vertical-align: top;\n",
       "    }\n",
       "\n",
       "    .dataframe thead th {\n",
       "        text-align: right;\n",
       "    }\n",
       "</style>\n",
       "<table border=\"1\" class=\"dataframe\">\n",
       "  <thead>\n",
       "    <tr style=\"text-align: right;\">\n",
       "      <th></th>\n",
       "      <th>hash_tab_num</th>\n",
       "      <th>rel_type</th>\n",
       "      <th>rel_birth</th>\n",
       "    </tr>\n",
       "  </thead>\n",
       "  <tbody>\n",
       "    <tr>\n",
       "      <th>0</th>\n",
       "      <td>0</td>\n",
       "      <td>Сын</td>\n",
       "      <td>2004.0</td>\n",
       "    </tr>\n",
       "    <tr>\n",
       "      <th>1</th>\n",
       "      <td>1</td>\n",
       "      <td>Сын</td>\n",
       "      <td>2006.0</td>\n",
       "    </tr>\n",
       "    <tr>\n",
       "      <th>2</th>\n",
       "      <td>1</td>\n",
       "      <td>Пасынок</td>\n",
       "      <td>2011.0</td>\n",
       "    </tr>\n",
       "    <tr>\n",
       "      <th>3</th>\n",
       "      <td>1</td>\n",
       "      <td>Жена</td>\n",
       "      <td>1982.0</td>\n",
       "    </tr>\n",
       "    <tr>\n",
       "      <th>4</th>\n",
       "      <td>1</td>\n",
       "      <td>Сын</td>\n",
       "      <td>2018.0</td>\n",
       "    </tr>\n",
       "  </tbody>\n",
       "</table>\n",
       "</div>"
      ],
      "text/plain": [
       "   hash_tab_num rel_type  rel_birth\n",
       "0             0      Сын     2004.0\n",
       "1             1      Сын     2006.0\n",
       "2             1  Пасынок     2011.0\n",
       "3             1     Жена     1982.0\n",
       "4             1      Сын     2018.0"
      ]
     },
     "execution_count": 8,
     "metadata": {},
     "output_type": "execute_result"
    }
   ],
   "source": [
    "relatives_df.head()"
   ]
  },
  {
   "cell_type": "code",
   "execution_count": 9,
   "id": "c1a9055a-8d0e-4108-9fd0-aa1c36d79410",
   "metadata": {},
   "outputs": [
    {
     "name": "stdout",
     "output_type": "stream",
     "text": [
      "<class 'pandas.core.frame.DataFrame'>\n",
      "RangeIndex: 4381 entries, 0 to 4380\n",
      "Data columns (total 3 columns):\n",
      " #   Column        Non-Null Count  Dtype  \n",
      "---  ------        --------------  -----  \n",
      " 0   hash_tab_num  4381 non-null   int64  \n",
      " 1   rel_type      4381 non-null   object \n",
      " 2   rel_birth     4235 non-null   float64\n",
      "dtypes: float64(1), int64(1), object(1)\n",
      "memory usage: 102.8+ KB\n"
     ]
    }
   ],
   "source": [
    "relatives_df.info()"
   ]
  },
  {
   "cell_type": "code",
   "execution_count": 10,
   "id": "2fa7a0cb-5bc1-4381-9020-5f42db3b7b96",
   "metadata": {},
   "outputs": [
    {
     "data": {
      "application/vnd.jupyter.widget-view+json": {
       "model_id": "85aef748e3e04dd7895cd60c1a0a48be",
       "version_major": 2,
       "version_minor": 0
      },
      "text/plain": [
       "Summarize dataset:   0%|          | 0/16 [00:00<?, ?it/s]"
      ]
     },
     "metadata": {},
     "output_type": "display_data"
    },
    {
     "data": {
      "application/vnd.jupyter.widget-view+json": {
       "model_id": "c254f5eb59a849e2bca64d7f5deeabfc",
       "version_major": 2,
       "version_minor": 0
      },
      "text/plain": [
       "Generate report structure:   0%|          | 0/1 [00:00<?, ?it/s]"
      ]
     },
     "metadata": {},
     "output_type": "display_data"
    },
    {
     "data": {
      "application/vnd.jupyter.widget-view+json": {
       "model_id": "",
       "version_major": 2,
       "version_minor": 0
      },
      "text/plain": [
       "Render widgets:   0%|          | 0/1 [00:00<?, ?it/s]"
      ]
     },
     "metadata": {},
     "output_type": "display_data"
    },
    {
     "data": {
      "application/vnd.jupyter.widget-view+json": {
       "model_id": "60f00c343de04b9ebc741cabf0a420e9",
       "version_major": 2,
       "version_minor": 0
      },
      "text/plain": [
       "VBox(children=(Tab(children=(Tab(children=(GridBox(children=(VBox(children=(GridspecLayout(children=(HTML(valu…"
      ]
     },
     "metadata": {},
     "output_type": "display_data"
    }
   ],
   "source": [
    "profile = ProfileReport(relatives_df, title='Relatives dataframe')\n",
    "profile.to_widgets()"
   ]
  },
  {
   "cell_type": "markdown",
   "id": "51873fc0-2e0e-4534-8e6b-d5414e6ae28a",
   "metadata": {},
   "source": [
    "# OGRV"
   ]
  },
  {
   "cell_type": "code",
   "execution_count": 11,
   "id": "f2fa2ade-a76f-43f5-8864-2e91576c9b92",
   "metadata": {},
   "outputs": [],
   "source": [
    "ogrv_df = pd.read_csv(DATA_PATH / 'OGRV.csv', sep=';', parse_dates=['date'])"
   ]
  },
  {
   "cell_type": "code",
   "execution_count": 12,
   "id": "8e7bbae4-8a5a-4722-944a-145350d336bc",
   "metadata": {},
   "outputs": [
    {
     "data": {
      "text/html": [
       "<div>\n",
       "<style scoped>\n",
       "    .dataframe tbody tr th:only-of-type {\n",
       "        vertical-align: middle;\n",
       "    }\n",
       "\n",
       "    .dataframe tbody tr th {\n",
       "        vertical-align: top;\n",
       "    }\n",
       "\n",
       "    .dataframe thead th {\n",
       "        text-align: right;\n",
       "    }\n",
       "</style>\n",
       "<table border=\"1\" class=\"dataframe\">\n",
       "  <thead>\n",
       "    <tr style=\"text-align: right;\">\n",
       "      <th></th>\n",
       "      <th>hash_tab_num</th>\n",
       "      <th>date</th>\n",
       "      <th>graphic_rule_level_2</th>\n",
       "      <th>graphic_rule_level_1</th>\n",
       "      <th>number_of_working_hours</th>\n",
       "      <th>work_shift_type</th>\n",
       "    </tr>\n",
       "  </thead>\n",
       "  <tbody>\n",
       "    <tr>\n",
       "      <th>0</th>\n",
       "      <td>886</td>\n",
       "      <td>2015-01-01</td>\n",
       "      <td>0833</td>\n",
       "      <td>Другое</td>\n",
       "      <td>8,00</td>\n",
       "      <td>Смена 1</td>\n",
       "    </tr>\n",
       "    <tr>\n",
       "      <th>1</th>\n",
       "      <td>886</td>\n",
       "      <td>2015-01-02</td>\n",
       "      <td>0833</td>\n",
       "      <td>Другое</td>\n",
       "      <td>8,00</td>\n",
       "      <td>Смена 1</td>\n",
       "    </tr>\n",
       "    <tr>\n",
       "      <th>2</th>\n",
       "      <td>886</td>\n",
       "      <td>2015-01-03</td>\n",
       "      <td>0003</td>\n",
       "      <td>Другое</td>\n",
       "      <td>0,15</td>\n",
       "      <td>Смена 1</td>\n",
       "    </tr>\n",
       "    <tr>\n",
       "      <th>3</th>\n",
       "      <td>886</td>\n",
       "      <td>2015-01-04</td>\n",
       "      <td>0832</td>\n",
       "      <td>Другое</td>\n",
       "      <td>8,00</td>\n",
       "      <td>Смена 2</td>\n",
       "    </tr>\n",
       "    <tr>\n",
       "      <th>4</th>\n",
       "      <td>886</td>\n",
       "      <td>2015-01-05</td>\n",
       "      <td>0832</td>\n",
       "      <td>Другое</td>\n",
       "      <td>8,00</td>\n",
       "      <td>Смена 2</td>\n",
       "    </tr>\n",
       "  </tbody>\n",
       "</table>\n",
       "</div>"
      ],
      "text/plain": [
       "   hash_tab_num       date graphic_rule_level_2 graphic_rule_level_1  \\\n",
       "0           886 2015-01-01                 0833               Другое   \n",
       "1           886 2015-01-02                 0833               Другое   \n",
       "2           886 2015-01-03                 0003               Другое   \n",
       "3           886 2015-01-04                 0832               Другое   \n",
       "4           886 2015-01-05                 0832               Другое   \n",
       "\n",
       "  number_of_working_hours work_shift_type  \n",
       "0                    8,00         Смена 1  \n",
       "1                    8,00         Смена 1  \n",
       "2                    0,15         Смена 1  \n",
       "3                    8,00         Смена 2  \n",
       "4                    8,00         Смена 2  "
      ]
     },
     "execution_count": 12,
     "metadata": {},
     "output_type": "execute_result"
    }
   ],
   "source": [
    "ogrv_df.head()"
   ]
  },
  {
   "cell_type": "code",
   "execution_count": 13,
   "id": "0e719bd3-b240-4021-9f5c-ad5228151be3",
   "metadata": {},
   "outputs": [
    {
     "name": "stdout",
     "output_type": "stream",
     "text": [
      "<class 'pandas.core.frame.DataFrame'>\n",
      "RangeIndex: 3194523 entries, 0 to 3194522\n",
      "Data columns (total 6 columns):\n",
      " #   Column                   Dtype         \n",
      "---  ------                   -----         \n",
      " 0   hash_tab_num             int64         \n",
      " 1   date                     datetime64[ns]\n",
      " 2   graphic_rule_level_2     object        \n",
      " 3   graphic_rule_level_1     object        \n",
      " 4   number_of_working_hours  object        \n",
      " 5   work_shift_type          object        \n",
      "dtypes: datetime64[ns](1), int64(1), object(4)\n",
      "memory usage: 146.2+ MB\n"
     ]
    }
   ],
   "source": [
    "ogrv_df.info()"
   ]
  },
  {
   "cell_type": "code",
   "execution_count": 14,
   "id": "6636d3a5-3549-4684-be36-2c51f8a08f38",
   "metadata": {},
   "outputs": [
    {
     "data": {
      "application/vnd.jupyter.widget-view+json": {
       "model_id": "1bcc0f24327641aea9751b8194e7326e",
       "version_major": 2,
       "version_minor": 0
      },
      "text/plain": [
       "Summarize dataset:   0%|          | 0/19 [00:00<?, ?it/s]"
      ]
     },
     "metadata": {},
     "output_type": "display_data"
    },
    {
     "data": {
      "application/vnd.jupyter.widget-view+json": {
       "model_id": "d0fc1e8fd10b42d9bf9de9bd0fe895ad",
       "version_major": 2,
       "version_minor": 0
      },
      "text/plain": [
       "Generate report structure:   0%|          | 0/1 [00:00<?, ?it/s]"
      ]
     },
     "metadata": {},
     "output_type": "display_data"
    },
    {
     "data": {
      "application/vnd.jupyter.widget-view+json": {
       "model_id": "",
       "version_major": 2,
       "version_minor": 0
      },
      "text/plain": [
       "Render widgets:   0%|          | 0/1 [00:00<?, ?it/s]"
      ]
     },
     "metadata": {},
     "output_type": "display_data"
    },
    {
     "data": {
      "application/vnd.jupyter.widget-view+json": {
       "model_id": "fa47e3cbfd584bf69ae801be3d5c8be9",
       "version_major": 2,
       "version_minor": 0
      },
      "text/plain": [
       "VBox(children=(Tab(children=(Tab(children=(GridBox(children=(VBox(children=(GridspecLayout(children=(HTML(valu…"
      ]
     },
     "metadata": {},
     "output_type": "display_data"
    }
   ],
   "source": [
    "profile = ProfileReport(ogrv_df, title='OGRV dataframe')\n",
    "profile.to_widgets()"
   ]
  },
  {
   "cell_type": "code",
   "execution_count": null,
   "id": "6c159eb7-409b-429f-87bc-03f9021887be",
   "metadata": {},
   "outputs": [],
   "source": []
  }
 ],
 "metadata": {
  "kernelspec": {
   "display_name": "Python 3",
   "language": "python",
   "name": "python3"
  },
  "language_info": {
   "codemirror_mode": {
    "name": "ipython",
    "version": 3
   },
   "file_extension": ".py",
   "mimetype": "text/x-python",
   "name": "python",
   "nbconvert_exporter": "python",
   "pygments_lexer": "ipython3",
   "version": "3.8.8"
  }
 },
 "nbformat": 4,
 "nbformat_minor": 5
}
