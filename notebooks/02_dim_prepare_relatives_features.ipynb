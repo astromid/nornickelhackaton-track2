{
 "cells": [
  {
   "cell_type": "code",
   "execution_count": 16,
   "id": "connected-african",
   "metadata": {},
   "outputs": [],
   "source": [
    "import pandas as pd\n",
    "import numpy as np\n",
    "import json\n",
    "from collections import defaultdict\n",
    "\n",
    "pd.set_option('display.max_columns', 1000)\n",
    "pd.set_option('display.max_rows', 1000)"
   ]
  },
  {
   "cell_type": "code",
   "execution_count": 2,
   "id": "mediterranean-lodging",
   "metadata": {},
   "outputs": [],
   "source": [
    "# Считывание данных\n",
    "\n",
    "sot = pd.read_csv('sotrudniki.csv', sep = ';')\n",
    "rod = pd.read_csv('rodstvenniki.csv', sep = ';')\n",
    "ogrv = pd.read_csv('OGRV.csv', sep = ';')"
   ]
  },
  {
   "cell_type": "markdown",
   "id": "swedish-anchor",
   "metadata": {},
   "source": [
    "## Выделил таргет - человек, дата, таргет (болел или нет)"
   ]
  },
  {
   "cell_type": "code",
   "execution_count": null,
   "id": "acting-negotiation",
   "metadata": {},
   "outputs": [],
   "source": [
    "sot[['hash_tab_num', 'date', 'sick']].to_csv('transformed_data/train_target_df.csv', index=False)"
   ]
  },
  {
   "cell_type": "markdown",
   "id": "brutal-patch",
   "metadata": {},
   "source": [
    "## Дата рождения"
   ]
  },
  {
   "cell_type": "code",
   "execution_count": 9,
   "id": "first-aquarium",
   "metadata": {},
   "outputs": [
    {
     "data": {
      "text/html": [
       "<div>\n",
       "<style scoped>\n",
       "    .dataframe tbody tr th:only-of-type {\n",
       "        vertical-align: middle;\n",
       "    }\n",
       "\n",
       "    .dataframe tbody tr th {\n",
       "        vertical-align: top;\n",
       "    }\n",
       "\n",
       "    .dataframe thead th {\n",
       "        text-align: right;\n",
       "    }\n",
       "</style>\n",
       "<table border=\"1\" class=\"dataframe\">\n",
       "  <thead>\n",
       "    <tr style=\"text-align: right;\">\n",
       "      <th></th>\n",
       "      <th>hash_tab_num</th>\n",
       "      <th>date_of_birth</th>\n",
       "    </tr>\n",
       "  </thead>\n",
       "  <tbody>\n",
       "    <tr>\n",
       "      <th>0</th>\n",
       "      <td>0</td>\n",
       "      <td>1985</td>\n",
       "    </tr>\n",
       "    <tr>\n",
       "      <th>1</th>\n",
       "      <td>1</td>\n",
       "      <td>1983</td>\n",
       "    </tr>\n",
       "    <tr>\n",
       "      <th>2</th>\n",
       "      <td>2</td>\n",
       "      <td>1967</td>\n",
       "    </tr>\n",
       "    <tr>\n",
       "      <th>3</th>\n",
       "      <td>3</td>\n",
       "      <td>1976</td>\n",
       "    </tr>\n",
       "    <tr>\n",
       "      <th>4</th>\n",
       "      <td>4</td>\n",
       "      <td>1986</td>\n",
       "    </tr>\n",
       "  </tbody>\n",
       "</table>\n",
       "</div>"
      ],
      "text/plain": [
       "   hash_tab_num  date_of_birth\n",
       "0             0           1985\n",
       "1             1           1983\n",
       "2             2           1967\n",
       "3             3           1976\n",
       "4             4           1986"
      ]
     },
     "execution_count": 9,
     "metadata": {},
     "output_type": "execute_result"
    }
   ],
   "source": [
    "temp_df = sot[['hash_tab_num', 'date_of_birth']].drop_duplicates().reset_index(drop=True)\n",
    "temp_df.head()"
   ]
  },
  {
   "cell_type": "code",
   "execution_count": 15,
   "id": "controversial-saint",
   "metadata": {},
   "outputs": [
    {
     "data": {
      "text/plain": [
       "((2653, 2), 2653)"
      ]
     },
     "execution_count": 15,
     "metadata": {},
     "output_type": "execute_result"
    }
   ],
   "source": [
    "date_of_birth_dict = dict(temp_df.values)\n",
    "temp_df.shape, len(date_of_birth_dict)"
   ]
  },
  {
   "cell_type": "code",
   "execution_count": 23,
   "id": "quarterly-calgary",
   "metadata": {},
   "outputs": [],
   "source": [
    "date_of_birth_dict = {int(k): int(v) for k, v in date_of_birth_dict.items()}\n",
    "\n",
    "with open('transformed_data/date_of_birth.json', 'w') as f:\n",
    "    json.dump(date_of_birth_dict, f)"
   ]
  },
  {
   "cell_type": "markdown",
   "id": "continental-character",
   "metadata": {},
   "source": [
    "## Родственники"
   ]
  },
  {
   "cell_type": "code",
   "execution_count": 30,
   "id": "incoming-settle",
   "metadata": {},
   "outputs": [],
   "source": [
    "males = [\n",
    "    'Сын',\n",
    "    'Муж',\n",
    "    'Отец',\n",
    "    'Брат',\n",
    "    'Пасынок',\n",
    "    'Внук',\n",
    "    'Отчим',\n",
    "    'Опекаемый (воспитанник)',\n",
    "    'Другая степень родства, свойства',\n",
    "    'Племянник',\n",
    "]"
   ]
  },
  {
   "cell_type": "code",
   "execution_count": 64,
   "id": "grand-density",
   "metadata": {},
   "outputs": [
    {
     "name": "stdout",
     "output_type": "stream",
     "text": [
      "1898 1898\n"
     ]
    }
   ],
   "source": [
    "relatives_dict = defaultdict(list)\n",
    "\n",
    "for hash_tab_num, rel_type, rel_birth in rod.values:\n",
    "    try:\n",
    "        rel_birth = int(rel_birth)\n",
    "    except ValueError:\n",
    "        rel_birth = -1\n",
    "    \n",
    "    hash_tab_num = int(hash_tab_num)\n",
    "    sex = 'M' if rel_type in males else 'F'\n",
    "    relatives_dict[hash_tab_num].append([sex, rel_birth])\n",
    "    \n",
    "print(len(relatives_dict), rod['hash_tab_num'].nunique())"
   ]
  },
  {
   "cell_type": "code",
   "execution_count": 65,
   "id": "endangered-paint",
   "metadata": {},
   "outputs": [],
   "source": [
    "with open('transformed_data/relatives_info.json', 'w') as f:\n",
    "    json.dump(relatives_dict, f)"
   ]
  },
  {
   "cell_type": "markdown",
   "id": "ahead-blues",
   "metadata": {},
   "source": [
    "---"
   ]
  },
  {
   "cell_type": "code",
   "execution_count": 66,
   "id": "incorporate-arcade",
   "metadata": {},
   "outputs": [],
   "source": [
    "with open('transformed_data/relatives_info.json', 'r') as f:\n",
    "    relatives_dict = json.load(f)\n",
    "\n",
    "\n",
    "def calc_relatives_bins(hash_tab_num, calc_date, relatives_dict):\n",
    "    '''\n",
    "    bins:\n",
    "        0: 0 - 3: младенец\n",
    "        1: 4 - 7: ребенок\n",
    "        2: 8 - 18: школьник\n",
    "        3: 19 - 35: молодежь :)\n",
    "        4: 36 - 55(F), 60(M): предпенсионный возраст\n",
    "        5: 55(F), 60(M) - +++: пенсионер\n",
    "        6: кол-во родственников мужского рода\n",
    "        7: кол-во родственников женского рода\n",
    "    '''\n",
    "    \n",
    "    bins = [0] * 8\n",
    "    if hash_tab_num not in relatives_dict:\n",
    "        return bins\n",
    "    \n",
    "    cur_date = int(calc_date[:4])\n",
    "    for (sex, birth_date) in relatives_dict[hash_tab_num]:\n",
    "        if sex == 'M':\n",
    "            bins[6] += 1\n",
    "        elif sex == 'F':\n",
    "            bins[7] += 1\n",
    "            \n",
    "        if birth_date < 0:\n",
    "            continue\n",
    "            \n",
    "        age = cur_date - birth_date\n",
    "        if age < 0:\n",
    "            continue\n",
    "        elif age <= 3:\n",
    "            bins[0] += 1\n",
    "        elif age <= 7:\n",
    "            bins[1] += 1\n",
    "        elif age <= 18:\n",
    "            bins[2] += 1\n",
    "        elif age <= 35:\n",
    "            bins[3] += 1\n",
    "        else:\n",
    "            if (sex == 'M' and age >= 60) or (sex == 'F' and age >= 55):\n",
    "                bins[5] += 1\n",
    "            else:\n",
    "                bins[4] += 1\n",
    "    return bins"
   ]
  }
 ],
 "metadata": {
  "kernelspec": {
   "display_name": "Python 3",
   "language": "python",
   "name": "python3"
  },
  "language_info": {
   "codemirror_mode": {
    "name": "ipython",
    "version": 3
   },
   "file_extension": ".py",
   "mimetype": "text/x-python",
   "name": "python",
   "nbconvert_exporter": "python",
   "pygments_lexer": "ipython3",
   "version": "3.8.2"
  }
 },
 "nbformat": 4,
 "nbformat_minor": 5
}
