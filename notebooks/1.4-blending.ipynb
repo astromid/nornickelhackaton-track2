{
 "cells": [
  {
   "cell_type": "code",
   "execution_count": 1,
   "id": "7b5b17e3-b505-46b0-a6aa-094efd0377f0",
   "metadata": {},
   "outputs": [],
   "source": [
    "import numpy as np\n",
    "import pandas as pd"
   ]
  },
  {
   "cell_type": "code",
   "execution_count": 2,
   "id": "1f9aa4c3-6f98-4a78-92c4-04d4919a29b2",
   "metadata": {},
   "outputs": [],
   "source": [
    "from pathlib import Path"
   ]
  },
  {
   "cell_type": "code",
   "execution_count": 3,
   "id": "bb0b544d-8f4e-4679-9e37-af0fc90d89cc",
   "metadata": {},
   "outputs": [],
   "source": [
    "subpaths = sorted(Path('../data/submissions/blend/').glob('*csv'))"
   ]
  },
  {
   "cell_type": "code",
   "execution_count": 4,
   "id": "fed32ce4-6acb-4d66-9060-46f8a19f7a3e",
   "metadata": {},
   "outputs": [],
   "source": [
    "subs = [pd.read_csv(path, sep=';') for path in subpaths]"
   ]
  },
  {
   "cell_type": "code",
   "execution_count": 5,
   "id": "66e965ce-4dee-4664-9af2-17fc354a6d60",
   "metadata": {},
   "outputs": [],
   "source": [
    "sub_blend = subs[0].drop('target', axis=1).copy()"
   ]
  },
  {
   "cell_type": "code",
   "execution_count": 6,
   "id": "753fae4d-6f14-4efe-92c6-eb6b9791676a",
   "metadata": {},
   "outputs": [],
   "source": [
    "for idx, sub in enumerate(subs):\n",
    "    sub_blend[f'target_{idx}'] = sub['target']"
   ]
  },
  {
   "cell_type": "code",
   "execution_count": 7,
   "id": "740377b8-f00b-4e6c-865b-3b9398bd58d3",
   "metadata": {},
   "outputs": [],
   "source": [
    "sub_blend['target'] = (\n",
    "    0.25299710624224886 * sub_blend['target_0'] + \n",
    "    0.26027397260273977 * sub_blend['target_1'] + \n",
    "    0.25696378830083566 * sub_blend['target_2'] + \n",
    "    0.2609880749574106 * sub_blend['target_3'] + \n",
    "    0.25811965811965815 * sub_blend['target_4'] + \n",
    "    0.2537719515211476 * sub_blend['target_5']) / (0.25299710624224886 + 0.26027397260273977 + 0.25696378830083566 + 0.2609880749574106 + 0.25811965811965815 + 0.2537719515211476)"
   ]
  },
  {
   "cell_type": "code",
   "execution_count": 9,
   "id": "2e1364ce-d4b8-4e2b-91b9-9025f15b0f19",
   "metadata": {},
   "outputs": [],
   "source": [
    "sub_blend['target'] = sub_blend['target'].astype('int')"
   ]
  },
  {
   "cell_type": "code",
   "execution_count": 10,
   "id": "3a84b9a5-c221-4eb3-8ee3-763dc40df9b6",
   "metadata": {},
   "outputs": [],
   "source": [
    "sub_blend = sub_blend.drop(['target_0', 'target_1', 'target_2', 'target_3', 'target_4', 'target_5'], axis=1)"
   ]
  },
  {
   "cell_type": "code",
   "execution_count": 11,
   "id": "5902a256-7c1b-4ce6-99b0-75071b0a85d4",
   "metadata": {},
   "outputs": [],
   "source": [
    "sub_blend.to_csv('../data/submissions/blend2.csv', sep=';', index=False)"
   ]
  },
  {
   "cell_type": "code",
   "execution_count": null,
   "id": "a3ef5f66-f109-48d5-9b7a-0a33bec4874e",
   "metadata": {},
   "outputs": [],
   "source": []
  }
 ],
 "metadata": {
  "kernelspec": {
   "display_name": "Python 3",
   "language": "python",
   "name": "python3"
  },
  "language_info": {
   "codemirror_mode": {
    "name": "ipython",
    "version": 3
   },
   "file_extension": ".py",
   "mimetype": "text/x-python",
   "name": "python",
   "nbconvert_exporter": "python",
   "pygments_lexer": "ipython3",
   "version": "3.8.8"
  }
 },
 "nbformat": 4,
 "nbformat_minor": 5
}
