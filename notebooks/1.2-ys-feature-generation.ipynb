{
 "cells": [
  {
   "cell_type": "code",
   "execution_count": 1,
   "id": "bc43a0aa-0ec6-45de-97f2-cfdcb5011dc9",
   "metadata": {},
   "outputs": [],
   "source": [
    "import numpy as np\n",
    "import pandas as pd\n",
    "import featuretools as ft"
   ]
  },
  {
   "cell_type": "code",
   "execution_count": 2,
   "id": "957596e0-54f2-4fc7-a103-fb3bea55cab6",
   "metadata": {},
   "outputs": [],
   "source": [
    "employee_history = pd.read_pickle('../data/interim/employee.pkl')\n",
    "relatives_history = pd.read_pickle('../data/interim/relatives.pkl')\n",
    "ogrv_history = pd.read_pickle('../data/interim/ogrv.pkl')"
   ]
  },
  {
   "cell_type": "code",
   "execution_count": 3,
   "id": "be0eac19-5855-47ab-9801-b93f166f479d",
   "metadata": {},
   "outputs": [],
   "source": [
    "sub_df = pd.read_csv('../data/submissions/submission_check.csv', sep=';', parse_dates=['date'])"
   ]
  },
  {
   "cell_type": "markdown",
   "id": "6571e237-b644-4e33-b1bb-ee02e27aff06",
   "metadata": {},
   "source": [
    "Будем собирать датасет из пар (id, target_date), рассчитывая фичи на последнюю доступную дату для данного target_date"
   ]
  },
  {
   "cell_type": "code",
   "execution_count": 4,
   "id": "a85fd800-9601-4283-915a-478e6f9ab2ca",
   "metadata": {},
   "outputs": [],
   "source": [
    "dataset = pd.concat((employee_history[['hash_tab_num', 'date']], sub_df[['hash_tab_num', 'date']]), ignore_index=True)"
   ]
  },
  {
   "cell_type": "code",
   "execution_count": 5,
   "id": "26e0da0d-d7f8-4621-8587-e9e3ff050bf2",
   "metadata": {},
   "outputs": [],
   "source": [
    "# выкидываем семплы до 2015-09-01 - они будут использоваться только для расчета фич других объектов\n",
    "dataset = dataset.drop(dataset[dataset['date'] < '2015-09-01'].index)\n",
    "dataset = dataset.reset_index(drop=True)\n",
    "dataset.index.name = 'row_id'"
   ]
  },
  {
   "cell_type": "code",
   "execution_count": 6,
   "id": "3a65a43c-d38b-4445-9a18-e4f7e5dc6e23",
   "metadata": {},
   "outputs": [
    {
     "data": {
      "text/html": [
       "<div>\n",
       "<style scoped>\n",
       "    .dataframe tbody tr th:only-of-type {\n",
       "        vertical-align: middle;\n",
       "    }\n",
       "\n",
       "    .dataframe tbody tr th {\n",
       "        vertical-align: top;\n",
       "    }\n",
       "\n",
       "    .dataframe thead th {\n",
       "        text-align: right;\n",
       "    }\n",
       "</style>\n",
       "<table border=\"1\" class=\"dataframe\">\n",
       "  <thead>\n",
       "    <tr style=\"text-align: right;\">\n",
       "      <th></th>\n",
       "      <th>hash_tab_num</th>\n",
       "      <th>date</th>\n",
       "    </tr>\n",
       "    <tr>\n",
       "      <th>row_id</th>\n",
       "      <th></th>\n",
       "      <th></th>\n",
       "    </tr>\n",
       "  </thead>\n",
       "  <tbody>\n",
       "    <tr>\n",
       "      <th>0</th>\n",
       "      <td>0</td>\n",
       "      <td>2015-09-01</td>\n",
       "    </tr>\n",
       "    <tr>\n",
       "      <th>1</th>\n",
       "      <td>0</td>\n",
       "      <td>2015-10-01</td>\n",
       "    </tr>\n",
       "  </tbody>\n",
       "</table>\n",
       "</div>"
      ],
      "text/plain": [
       "        hash_tab_num       date\n",
       "row_id                         \n",
       "0                  0 2015-09-01\n",
       "1                  0 2015-10-01"
      ]
     },
     "execution_count": 6,
     "metadata": {},
     "output_type": "execute_result"
    }
   ],
   "source": [
    "# объект моделирования - пара (employee, date)\n",
    "dataset.head(2)"
   ]
  },
  {
   "cell_type": "markdown",
   "id": "ea677146-8eed-40fb-9e04-80d012335ca8",
   "metadata": {},
   "source": [
    "# Описание данных для featuretools"
   ]
  },
  {
   "cell_type": "code",
   "execution_count": 7,
   "id": "3c4ce933-2d8a-4eb4-9fc0-e3ae6b13abe5",
   "metadata": {},
   "outputs": [],
   "source": [
    "# проставим даты отсечки по расчету фичей\n",
    "cutoff_times = dataset[['date']].copy()\n",
    "cutoff_times['time'] = pd.to_datetime('2015-08-01')\n",
    "cutoff_times.loc[cutoff_times['date'] > '2016-08-01', 'time'] = pd.to_datetime('2016-08-01')\n",
    "cutoff_times.loc[cutoff_times['date'] > '2017-08-01', 'time'] = pd.to_datetime('2017-08-01')\n",
    "cutoff_times.loc[cutoff_times['date'] > '2018-08-01', 'time'] = pd.to_datetime('2018-08-01')\n",
    "cutoff_times.loc[cutoff_times['date'] > '2019-08-01', 'time'] = pd.to_datetime('2019-08-01')\n",
    "cutoff_times = cutoff_times.drop('date', axis=1)"
   ]
  },
  {
   "cell_type": "code",
   "execution_count": 8,
   "id": "5f9c5456-9f09-4348-a4a1-7437c43ff16b",
   "metadata": {},
   "outputs": [
    {
     "data": {
      "text/html": [
       "<div>\n",
       "<style scoped>\n",
       "    .dataframe tbody tr th:only-of-type {\n",
       "        vertical-align: middle;\n",
       "    }\n",
       "\n",
       "    .dataframe tbody tr th {\n",
       "        vertical-align: top;\n",
       "    }\n",
       "\n",
       "    .dataframe thead th {\n",
       "        text-align: right;\n",
       "    }\n",
       "</style>\n",
       "<table border=\"1\" class=\"dataframe\">\n",
       "  <thead>\n",
       "    <tr style=\"text-align: right;\">\n",
       "      <th></th>\n",
       "      <th>time</th>\n",
       "    </tr>\n",
       "    <tr>\n",
       "      <th>row_id</th>\n",
       "      <th></th>\n",
       "    </tr>\n",
       "  </thead>\n",
       "  <tbody>\n",
       "    <tr>\n",
       "      <th>0</th>\n",
       "      <td>2015-08-01</td>\n",
       "    </tr>\n",
       "    <tr>\n",
       "      <th>1</th>\n",
       "      <td>2015-08-01</td>\n",
       "    </tr>\n",
       "  </tbody>\n",
       "</table>\n",
       "</div>"
      ],
      "text/plain": [
       "             time\n",
       "row_id           \n",
       "0      2015-08-01\n",
       "1      2015-08-01"
      ]
     },
     "execution_count": 8,
     "metadata": {},
     "output_type": "execute_result"
    }
   ],
   "source": [
    "cutoff_times.head(2)"
   ]
  },
  {
   "cell_type": "code",
   "execution_count": 9,
   "id": "32c1e331-cc88-4d58-86b5-072e6589a9a8",
   "metadata": {},
   "outputs": [],
   "source": [
    "es = ft.EntitySet()\n",
    "es = es.entity_from_dataframe(\n",
    "    entity_id='dataset',\n",
    "    dataframe=dataset.reset_index(),\n",
    "    index='row_id',\n",
    "    variable_types={\n",
    "        'hash_tab_num': ft.variable_types.Id,\n",
    "        'date': ft.variable_types.Datetime,\n",
    "    },\n",
    ")"
   ]
  },
  {
   "cell_type": "code",
   "execution_count": 10,
   "id": "c986d800-4070-49ba-8838-ed9391c29256",
   "metadata": {
    "tags": []
   },
   "outputs": [],
   "source": [
    "# нужно выделить таблицу сотрудников с неизменными во времени показателями\n",
    "employee = employee_history[['hash_tab_num', 'date_of_birth', 'is_local', 'gender', 'education']].drop_duplicates()\n",
    "employee_history = employee_history.drop(['date_of_birth', 'is_local', 'gender', 'education'], axis=1)\n",
    "\n",
    "es = es.entity_from_dataframe(\n",
    "    entity_id='employee',\n",
    "    dataframe=employee,\n",
    "    index='hash_tab_num',\n",
    "    variable_types={\n",
    "        'date_of_birth': ft.variable_types.DateOfBirth,\n",
    "        'is_local': ft.variable_types.Boolean,\n",
    "        'gender': ft.variable_types.Boolean,\n",
    "    },\n",
    ")"
   ]
  },
  {
   "cell_type": "code",
   "execution_count": 11,
   "id": "b4548e94-645a-4a69-b5d2-1b1d9d54f68c",
   "metadata": {},
   "outputs": [],
   "source": [
    "employee_history.index.name = 'row_id'\n",
    "\n",
    "es = es.entity_from_dataframe(\n",
    "    entity_id='employee_history',\n",
    "    dataframe=employee_history.reset_index(),\n",
    "    index='row_id',\n",
    "    time_index='date',\n",
    "    variable_types={\n",
    "        'hash_tab_num': ft.variable_types.Id,\n",
    "        'razryad_post': ft.variable_types.Ordinal,\n",
    "        'razryad_fact': ft.variable_types.Ordinal,\n",
    "        'child_num': ft.variable_types.Ordinal,\n",
    "        'sick': ft.variable_types.Boolean,\n",
    "        'is_married': ft.variable_types.Boolean,\n",
    "    },\n",
    ")"
   ]
  },
  {
   "cell_type": "code",
   "execution_count": 12,
   "id": "747e118d-4759-4c8b-bb85-734eebe145d2",
   "metadata": {},
   "outputs": [],
   "source": [
    "# добавим гендер родственника\n",
    "relatives_history['is_male'] = relatives_history['rel_type'].isin(['Сын', 'Муж', 'Отец', 'Пасынок', 'Внук','Брат']).astype('int')\n",
    "relatives_history.index.name = 'row_id'\n",
    "\n",
    "es = es.entity_from_dataframe(\n",
    "    entity_id='relatives_history',\n",
    "    dataframe=relatives_history.reset_index(),\n",
    "    index='row_id',\n",
    "    variable_types={\n",
    "        'hash_tab_num': ft.variable_types.Id,\n",
    "        'rel_birth': ft.variable_types.DateOfBirth,\n",
    "        'is_male': ft.variable_types.Boolean,\n",
    "    },\n",
    ")"
   ]
  },
  {
   "cell_type": "code",
   "execution_count": 13,
   "id": "b71a1d7a-cd44-4d0d-aa54-ff6a7e9bcb3c",
   "metadata": {},
   "outputs": [],
   "source": [
    "ogrv_history.index.name = 'row_id'\n",
    "\n",
    "es = es.entity_from_dataframe(\n",
    "    entity_id='ogrv_history',\n",
    "    dataframe=ogrv_history.reset_index(),\n",
    "    index='row_id',\n",
    "    time_index='date',\n",
    "    variable_types={'hash_tab_num': ft.variable_types.Id},\n",
    ")"
   ]
  },
  {
   "cell_type": "code",
   "execution_count": 14,
   "id": "64f06107-4076-43f1-a1e1-b126e8cb1bb9",
   "metadata": {},
   "outputs": [],
   "source": [
    "# sick dates entity\n",
    "es = es.entity_from_dataframe(\n",
    "    entity_id='sick_dates',\n",
    "    dataframe=employee_history[employee_history['sick'] == 1][['hash_tab_num', 'date']].reset_index(),\n",
    "    index='row_id',\n",
    "    time_index='date',\n",
    "    variable_types={'hash_tab_num': ft.variable_types.Id},\n",
    ")"
   ]
  },
  {
   "cell_type": "code",
   "execution_count": 15,
   "id": "42fe435e-fd23-43da-bd3b-549eb72c7998",
   "metadata": {},
   "outputs": [],
   "source": [
    "es = es.add_relationships([\n",
    "    ft.Relationship(es['employee']['hash_tab_num'], es['employee_history']['hash_tab_num']),\n",
    "    ft.Relationship(es['employee']['hash_tab_num'], es['relatives_history']['hash_tab_num']),\n",
    "    ft.Relationship(es['employee']['hash_tab_num'], es['ogrv_history']['hash_tab_num']),\n",
    "    ft.Relationship(es['employee']['hash_tab_num'], es['dataset']['hash_tab_num']),\n",
    "    ft.Relationship(es['employee']['hash_tab_num'], es['sick_dates']['hash_tab_num']),\n",
    "])"
   ]
  },
  {
   "cell_type": "code",
   "execution_count": 16,
   "id": "172d731f-b66a-447e-9d23-44056a83710d",
   "metadata": {},
   "outputs": [
    {
     "data": {
      "image/svg+xml": [
       "<?xml version=\"1.0\" encoding=\"UTF-8\" standalone=\"no\"?>\n",
       "<!DOCTYPE svg PUBLIC \"-//W3C//DTD SVG 1.1//EN\"\n",
       " \"http://www.w3.org/Graphics/SVG/1.1/DTD/svg11.dtd\">\n",
       "<!-- Generated by graphviz version 2.47.0 (20210327.0129)\n",
       " -->\n",
       "<!-- Pages: 1 -->\n",
       "<svg width=\"1260pt\" height=\"498pt\"\n",
       " viewBox=\"0.00 0.00 1260.00 498.00\" xmlns=\"http://www.w3.org/2000/svg\" xmlns:xlink=\"http://www.w3.org/1999/xlink\">\n",
       "<g id=\"graph0\" class=\"graph\" transform=\"scale(1 1) rotate(0) translate(4 494)\">\n",
       "<polygon fill=\"white\" stroke=\"transparent\" points=\"-4,4 -4,-494 1256,-494 1256,4 -4,4\"/>\n",
       "<!-- dataset -->\n",
       "<g id=\"node1\" class=\"node\">\n",
       "<title>dataset</title>\n",
       "<polygon fill=\"none\" stroke=\"black\" points=\"0,-278.5 0,-354.5 179,-354.5 179,-278.5 0,-278.5\"/>\n",
       "<text text-anchor=\"middle\" x=\"89.5\" y=\"-339.3\" font-family=\"Times-Roman\" font-size=\"14.00\">dataset (111287 rows)</text>\n",
       "<polyline fill=\"none\" stroke=\"black\" points=\"0,-331.5 179,-331.5 \"/>\n",
       "<text text-anchor=\"start\" x=\"8\" y=\"-316.3\" font-family=\"Times-Roman\" font-size=\"14.00\">row_id : index</text>\n",
       "<text text-anchor=\"start\" x=\"8\" y=\"-301.3\" font-family=\"Times-Roman\" font-size=\"14.00\">hash_tab_num : id</text>\n",
       "<text text-anchor=\"start\" x=\"8\" y=\"-286.3\" font-family=\"Times-Roman\" font-size=\"14.00\">date : datetime</text>\n",
       "</g>\n",
       "<!-- employee -->\n",
       "<g id=\"node2\" class=\"node\">\n",
       "<title>employee</title>\n",
       "<polygon fill=\"none\" stroke=\"black\" points=\"502,-0.5 502,-106.5 721,-106.5 721,-0.5 502,-0.5\"/>\n",
       "<text text-anchor=\"middle\" x=\"611.5\" y=\"-91.3\" font-family=\"Times-Roman\" font-size=\"14.00\">employee (2653 rows)</text>\n",
       "<polyline fill=\"none\" stroke=\"black\" points=\"502,-83.5 721,-83.5 \"/>\n",
       "<text text-anchor=\"start\" x=\"510\" y=\"-68.3\" font-family=\"Times-Roman\" font-size=\"14.00\">hash_tab_num : index</text>\n",
       "<text text-anchor=\"start\" x=\"510\" y=\"-53.3\" font-family=\"Times-Roman\" font-size=\"14.00\">education : categorical</text>\n",
       "<text text-anchor=\"start\" x=\"510\" y=\"-38.3\" font-family=\"Times-Roman\" font-size=\"14.00\">date_of_birth : date_of_birth</text>\n",
       "<text text-anchor=\"start\" x=\"510\" y=\"-23.3\" font-family=\"Times-Roman\" font-size=\"14.00\">is_local : boolean</text>\n",
       "<text text-anchor=\"start\" x=\"510\" y=\"-8.3\" font-family=\"Times-Roman\" font-size=\"14.00\">gender : boolean</text>\n",
       "</g>\n",
       "<!-- dataset&#45;&gt;employee -->\n",
       "<g id=\"edge4\" class=\"edge\">\n",
       "<title>dataset&#45;&gt;employee</title>\n",
       "<path fill=\"none\" stroke=\"black\" d=\"M89.5,-278.47C89.5,-205.5 89.5,-53 89.5,-53 89.5,-53 491.75,-53 491.75,-53\"/>\n",
       "<polygon fill=\"black\" stroke=\"black\" points=\"491.75,-56.5 501.75,-53 491.75,-49.5 491.75,-56.5\"/>\n",
       "<text text-anchor=\"middle\" x=\"124.89\" y=\"-56.8\" font-family=\"Times-Roman\" font-size=\"14.00\">hash_tab_num</text>\n",
       "</g>\n",
       "<!-- employee_history -->\n",
       "<g id=\"node3\" class=\"node\">\n",
       "<title>employee_history</title>\n",
       "<polygon fill=\"none\" stroke=\"black\" points=\"197.5,-143.5 197.5,-489.5 481.5,-489.5 481.5,-143.5 197.5,-143.5\"/>\n",
       "<text text-anchor=\"middle\" x=\"339.5\" y=\"-474.3\" font-family=\"Times-Roman\" font-size=\"14.00\">employee_history (99214 rows)</text>\n",
       "<polyline fill=\"none\" stroke=\"black\" points=\"197.5,-466.5 481.5,-466.5 \"/>\n",
       "<text text-anchor=\"start\" x=\"205.5\" y=\"-451.3\" font-family=\"Times-Roman\" font-size=\"14.00\">row_id : index</text>\n",
       "<text text-anchor=\"start\" x=\"205.5\" y=\"-436.3\" font-family=\"Times-Roman\" font-size=\"14.00\">date : datetime_time_index</text>\n",
       "<text text-anchor=\"start\" x=\"205.5\" y=\"-421.3\" font-family=\"Times-Roman\" font-size=\"14.00\">category : categorical</text>\n",
       "<text text-anchor=\"start\" x=\"205.5\" y=\"-406.3\" font-family=\"Times-Roman\" font-size=\"14.00\">name_post_lvl4 : categorical</text>\n",
       "<text text-anchor=\"start\" x=\"205.5\" y=\"-391.3\" font-family=\"Times-Roman\" font-size=\"14.00\">name_post_lvl5 : categorical</text>\n",
       "<text text-anchor=\"start\" x=\"205.5\" y=\"-376.3\" font-family=\"Times-Roman\" font-size=\"14.00\">prof_post_augment : categorical</text>\n",
       "<text text-anchor=\"start\" x=\"205.5\" y=\"-361.3\" font-family=\"Times-Roman\" font-size=\"14.00\">name_fact_lvl4 : categorical</text>\n",
       "<text text-anchor=\"start\" x=\"205.5\" y=\"-346.3\" font-family=\"Times-Roman\" font-size=\"14.00\">name_fact_lvl5 : categorical</text>\n",
       "<text text-anchor=\"start\" x=\"205.5\" y=\"-331.3\" font-family=\"Times-Roman\" font-size=\"14.00\">prof_fact_augment : categorical</text>\n",
       "<text text-anchor=\"start\" x=\"205.5\" y=\"-316.3\" font-family=\"Times-Roman\" font-size=\"14.00\">married : categorical</text>\n",
       "<text text-anchor=\"start\" x=\"205.5\" y=\"-301.3\" font-family=\"Times-Roman\" font-size=\"14.00\">work_experience_company : numeric</text>\n",
       "<text text-anchor=\"start\" x=\"205.5\" y=\"-286.3\" font-family=\"Times-Roman\" font-size=\"14.00\">work_experience_factory : numeric</text>\n",
       "<text text-anchor=\"start\" x=\"205.5\" y=\"-271.3\" font-family=\"Times-Roman\" font-size=\"14.00\">work_experience_all : numeric</text>\n",
       "<text text-anchor=\"start\" x=\"205.5\" y=\"-256.3\" font-family=\"Times-Roman\" font-size=\"14.00\">home_to_work_distance : numeric</text>\n",
       "<text text-anchor=\"start\" x=\"205.5\" y=\"-241.3\" font-family=\"Times-Roman\" font-size=\"14.00\">home_to_work_duration : numeric</text>\n",
       "<text text-anchor=\"start\" x=\"205.5\" y=\"-226.3\" font-family=\"Times-Roman\" font-size=\"14.00\">hash_tab_num : id</text>\n",
       "<text text-anchor=\"start\" x=\"205.5\" y=\"-211.3\" font-family=\"Times-Roman\" font-size=\"14.00\">razryad_post : ordinal</text>\n",
       "<text text-anchor=\"start\" x=\"205.5\" y=\"-196.3\" font-family=\"Times-Roman\" font-size=\"14.00\">razryad_fact : ordinal</text>\n",
       "<text text-anchor=\"start\" x=\"205.5\" y=\"-181.3\" font-family=\"Times-Roman\" font-size=\"14.00\">child_num : ordinal</text>\n",
       "<text text-anchor=\"start\" x=\"205.5\" y=\"-166.3\" font-family=\"Times-Roman\" font-size=\"14.00\">sick : boolean</text>\n",
       "<text text-anchor=\"start\" x=\"205.5\" y=\"-151.3\" font-family=\"Times-Roman\" font-size=\"14.00\">is_married : boolean</text>\n",
       "</g>\n",
       "<!-- employee_history&#45;&gt;employee -->\n",
       "<g id=\"edge1\" class=\"edge\">\n",
       "<title>employee_history&#45;&gt;employee</title>\n",
       "<path fill=\"none\" stroke=\"black\" d=\"M481.68,-195C522.77,-195 556.75,-195 556.75,-195 556.75,-195 556.75,-116.59 556.75,-116.59\"/>\n",
       "<polygon fill=\"black\" stroke=\"black\" points=\"560.25,-116.59 556.75,-106.59 553.25,-116.59 560.25,-116.59\"/>\n",
       "<text text-anchor=\"middle\" x=\"609.75\" y=\"-197.13\" font-family=\"Times-Roman\" font-size=\"14.00\">hash_tab_num</text>\n",
       "</g>\n",
       "<!-- relatives_history -->\n",
       "<g id=\"node4\" class=\"node\">\n",
       "<title>relatives_history</title>\n",
       "<polygon fill=\"none\" stroke=\"black\" points=\"499.5,-263.5 499.5,-369.5 723.5,-369.5 723.5,-263.5 499.5,-263.5\"/>\n",
       "<text text-anchor=\"middle\" x=\"611.5\" y=\"-354.3\" font-family=\"Times-Roman\" font-size=\"14.00\">relatives_history (4380 rows)</text>\n",
       "<polyline fill=\"none\" stroke=\"black\" points=\"499.5,-346.5 723.5,-346.5 \"/>\n",
       "<text text-anchor=\"start\" x=\"507.5\" y=\"-331.3\" font-family=\"Times-Roman\" font-size=\"14.00\">row_id : index</text>\n",
       "<text text-anchor=\"start\" x=\"507.5\" y=\"-316.3\" font-family=\"Times-Roman\" font-size=\"14.00\">rel_type : categorical</text>\n",
       "<text text-anchor=\"start\" x=\"507.5\" y=\"-301.3\" font-family=\"Times-Roman\" font-size=\"14.00\">hash_tab_num : id</text>\n",
       "<text text-anchor=\"start\" x=\"507.5\" y=\"-286.3\" font-family=\"Times-Roman\" font-size=\"14.00\">rel_birth : date_of_birth</text>\n",
       "<text text-anchor=\"start\" x=\"507.5\" y=\"-271.3\" font-family=\"Times-Roman\" font-size=\"14.00\">is_male : boolean</text>\n",
       "</g>\n",
       "<!-- relatives_history&#45;&gt;employee -->\n",
       "<g id=\"edge2\" class=\"edge\">\n",
       "<title>relatives_history&#45;&gt;employee</title>\n",
       "<path fill=\"none\" stroke=\"black\" d=\"M611.5,-263.28C611.5,-263.28 611.5,-116.64 611.5,-116.64\"/>\n",
       "<polygon fill=\"black\" stroke=\"black\" points=\"615,-116.64 611.5,-106.64 608,-116.64 615,-116.64\"/>\n",
       "<text text-anchor=\"middle\" x=\"558.5\" y=\"-178.76\" font-family=\"Times-Roman\" font-size=\"14.00\">hash_tab_num</text>\n",
       "</g>\n",
       "<!-- ogrv_history -->\n",
       "<g id=\"node5\" class=\"node\">\n",
       "<title>ogrv_history</title>\n",
       "<polygon fill=\"none\" stroke=\"black\" points=\"742,-248.5 742,-384.5 1021,-384.5 1021,-248.5 742,-248.5\"/>\n",
       "<text text-anchor=\"middle\" x=\"881.5\" y=\"-369.3\" font-family=\"Times-Roman\" font-size=\"14.00\">ogrv_history (3194523 rows)</text>\n",
       "<polyline fill=\"none\" stroke=\"black\" points=\"742,-361.5 1021,-361.5 \"/>\n",
       "<text text-anchor=\"start\" x=\"750\" y=\"-346.3\" font-family=\"Times-Roman\" font-size=\"14.00\">row_id : index</text>\n",
       "<text text-anchor=\"start\" x=\"750\" y=\"-331.3\" font-family=\"Times-Roman\" font-size=\"14.00\">date : datetime_time_index</text>\n",
       "<text text-anchor=\"start\" x=\"750\" y=\"-316.3\" font-family=\"Times-Roman\" font-size=\"14.00\">graphic_rule_level_2 : categorical</text>\n",
       "<text text-anchor=\"start\" x=\"750\" y=\"-301.3\" font-family=\"Times-Roman\" font-size=\"14.00\">graphic_rule_level_1 : categorical</text>\n",
       "<text text-anchor=\"start\" x=\"750\" y=\"-286.3\" font-family=\"Times-Roman\" font-size=\"14.00\">number_of_working_hours : numeric</text>\n",
       "<text text-anchor=\"start\" x=\"750\" y=\"-271.3\" font-family=\"Times-Roman\" font-size=\"14.00\">work_shift_type : categorical</text>\n",
       "<text text-anchor=\"start\" x=\"750\" y=\"-256.3\" font-family=\"Times-Roman\" font-size=\"14.00\">hash_tab_num : id</text>\n",
       "</g>\n",
       "<!-- ogrv_history&#45;&gt;employee -->\n",
       "<g id=\"edge3\" class=\"edge\">\n",
       "<title>ogrv_history&#45;&gt;employee</title>\n",
       "<path fill=\"none\" stroke=\"black\" d=\"M741.84,-255C700.59,-255 666.25,-255 666.25,-255 666.25,-255 666.25,-116.71 666.25,-116.71\"/>\n",
       "<polygon fill=\"black\" stroke=\"black\" points=\"669.75,-116.71 666.25,-106.71 662.75,-116.71 669.75,-116.71\"/>\n",
       "<text text-anchor=\"middle\" x=\"613.25\" y=\"-227.45\" font-family=\"Times-Roman\" font-size=\"14.00\">hash_tab_num</text>\n",
       "</g>\n",
       "<!-- sick_dates -->\n",
       "<g id=\"node6\" class=\"node\">\n",
       "<title>sick_dates</title>\n",
       "<polygon fill=\"none\" stroke=\"black\" points=\"1039,-278.5 1039,-354.5 1252,-354.5 1252,-278.5 1039,-278.5\"/>\n",
       "<text text-anchor=\"middle\" x=\"1145.5\" y=\"-339.3\" font-family=\"Times-Roman\" font-size=\"14.00\">sick_dates (11747 rows)</text>\n",
       "<polyline fill=\"none\" stroke=\"black\" points=\"1039,-331.5 1252,-331.5 \"/>\n",
       "<text text-anchor=\"start\" x=\"1047\" y=\"-316.3\" font-family=\"Times-Roman\" font-size=\"14.00\">row_id : index</text>\n",
       "<text text-anchor=\"start\" x=\"1047\" y=\"-301.3\" font-family=\"Times-Roman\" font-size=\"14.00\">date : datetime_time_index</text>\n",
       "<text text-anchor=\"start\" x=\"1047\" y=\"-286.3\" font-family=\"Times-Roman\" font-size=\"14.00\">hash_tab_num : id</text>\n",
       "</g>\n",
       "<!-- sick_dates&#45;&gt;employee -->\n",
       "<g id=\"edge5\" class=\"edge\">\n",
       "<title>sick_dates&#45;&gt;employee</title>\n",
       "<path fill=\"none\" stroke=\"black\" d=\"M1145.5,-278.47C1145.5,-205.5 1145.5,-53 1145.5,-53 1145.5,-53 731.17,-53 731.17,-53\"/>\n",
       "<polygon fill=\"black\" stroke=\"black\" points=\"731.17,-49.5 721.17,-53 731.17,-56.5 731.17,-49.5\"/>\n",
       "<text text-anchor=\"middle\" x=\"998.07\" y=\"-56.8\" font-family=\"Times-Roman\" font-size=\"14.00\">hash_tab_num</text>\n",
       "</g>\n",
       "</g>\n",
       "</svg>\n"
      ],
      "text/plain": [
       "<graphviz.dot.Digraph at 0x7fe793775610>"
      ]
     },
     "execution_count": 16,
     "metadata": {},
     "output_type": "execute_result"
    }
   ],
   "source": [
    "es.plot()"
   ]
  },
  {
   "cell_type": "code",
   "execution_count": 17,
   "id": "ebfe630e-d0e4-4ccd-a34a-8870da7fce8f",
   "metadata": {},
   "outputs": [],
   "source": [
    "es['employee_history']['sick'].interesting_values = [1]\n",
    "es['ogrv_history']['graphic_rule_level_1'].interesting_values = ['Больничный', 'Прогул', 'Командировка']\n",
    "es['employee']['gender'].interesting_values = [1]\n",
    "es['employee']['is_local'].interesting_values = [1]"
   ]
  },
  {
   "cell_type": "markdown",
   "id": "6dc4da8d-610f-4946-8fa7-b9c80f8a7a1d",
   "metadata": {},
   "source": [
    "# DFS"
   ]
  },
  {
   "cell_type": "code",
   "execution_count": 18,
   "id": "4735bfdb-7401-4f90-91e4-9e268ff7a1f8",
   "metadata": {},
   "outputs": [
    {
     "name": "stdout",
     "output_type": "stream",
     "text": [
      "Built 155 features\n",
      "EntitySet scattered to 32 workers in 14 seconds\n",
      "Elapsed: 00:26 | Progress: 100%|██████████\n"
     ]
    }
   ],
   "source": [
    "feature_matrix, feature_defs = ft.dfs(\n",
    "    entityset=es,\n",
    "    target_entity='dataset',\n",
    "    agg_primitives=['sum', 'std', 'max', 'min', 'mean', 'count', 'percent_true', 'num_unique', 'mode', 'avg_time_between', 'time_since_first', 'median'],\n",
    "    trans_primitives=['year', 'month', 'age', 'time_since_previous'],\n",
    "    where_primitives=['avg_time_between', 'count'],\n",
    "    cutoff_time=cutoff_times.reset_index(),\n",
    "    max_depth=3,\n",
    "    n_jobs=32,\n",
    "    verbose=True,\n",
    ")"
   ]
  },
  {
   "cell_type": "code",
   "execution_count": 19,
   "id": "ccc82574-76c9-4f77-a097-57a2630ebeee",
   "metadata": {},
   "outputs": [],
   "source": [
    "# remove constant features\n",
    "feature_matrix, feature_defs = ft.selection.remove_single_value_features(feature_matrix, features=feature_defs)"
   ]
  },
  {
   "cell_type": "code",
   "execution_count": 21,
   "id": "c3dd92cf-90d5-474d-9a97-7f600ce13697",
   "metadata": {},
   "outputs": [],
   "source": [
    "object_cols = feature_matrix.select_dtypes('object').columns\n",
    "# нужно заполнить NaN в строковых признаках и вернуть им категориальный тип\n",
    "feature_matrix[object_cols] = feature_matrix[object_cols].fillna('None').astype('category')"
   ]
  },
  {
   "cell_type": "markdown",
   "id": "ae9503a3-7d70-4cc2-a433-3e70d28a5ca3",
   "metadata": {},
   "source": [
    "# External data"
   ]
  },
  {
   "cell_type": "code",
   "execution_count": 22,
   "id": "c7ce7559-e0cf-4017-b3f4-06739c25a6ad",
   "metadata": {},
   "outputs": [],
   "source": [
    "dataset = dataset.merge(feature_matrix.drop('hash_tab_num', axis=1), left_index=True, right_index=True, validate='1:1')"
   ]
  },
  {
   "cell_type": "code",
   "execution_count": 23,
   "id": "bc668068-f6c8-44f4-ba53-bc5ff0799db6",
   "metadata": {},
   "outputs": [],
   "source": [
    "dataset = dataset.merge(cutoff_times, left_index=True, right_index=True, validate='1:1')"
   ]
  },
  {
   "cell_type": "code",
   "execution_count": 24,
   "id": "35060db1-5560-42f2-b874-a65055922c1c",
   "metadata": {},
   "outputs": [],
   "source": [
    "dataset = dataset.rename(columns={'time': 'cutoff_date'})"
   ]
  },
  {
   "cell_type": "code",
   "execution_count": 25,
   "id": "d3f20047-ef0c-48d8-848c-7a3cd5d46295",
   "metadata": {},
   "outputs": [],
   "source": [
    "dataset['cutoff_year'] = dataset['cutoff_date'].dt.year\n",
    "dataset['cutoff_month'] = dataset['cutoff_date'].dt.month"
   ]
  },
  {
   "cell_type": "code",
   "execution_count": 26,
   "id": "156671c8-cf39-41cd-a0e5-d0d36785c3ea",
   "metadata": {},
   "outputs": [],
   "source": [
    "economic_df = pd.read_csv('../data/external/economic_indicators.csv')\n",
    "res_df = pd.read_csv('../data/external/mineral_resources_price_history.csv', parse_dates=['date'])"
   ]
  },
  {
   "cell_type": "code",
   "execution_count": 27,
   "id": "019b130b-693a-4341-b7ee-9127421328f7",
   "metadata": {},
   "outputs": [],
   "source": [
    "economic_df['next_year'] = economic_df['year'].shift(-1)"
   ]
  },
  {
   "cell_type": "code",
   "execution_count": 28,
   "id": "8f9ab3a5-9dee-47b6-ba27-0b3475f13520",
   "metadata": {},
   "outputs": [],
   "source": [
    "economic_df = economic_df.dropna()"
   ]
  },
  {
   "cell_type": "code",
   "execution_count": 29,
   "id": "682066e3-e8d7-46c6-bea7-03c28a6d8df5",
   "metadata": {},
   "outputs": [],
   "source": [
    "economic_df = economic_df.drop('year', axis=1)"
   ]
  },
  {
   "cell_type": "code",
   "execution_count": 30,
   "id": "77cd4d63-5920-4bd1-ad57-31516b1403f1",
   "metadata": {},
   "outputs": [],
   "source": [
    "dataset = dataset.merge(economic_df, left_on='cutoff_year', right_on='next_year', how='left')"
   ]
  },
  {
   "cell_type": "code",
   "execution_count": 31,
   "id": "c509448b-a09a-4ff3-aab9-fac4bae02f8e",
   "metadata": {},
   "outputs": [],
   "source": [
    "dataset = dataset.drop('next_year', axis=1)"
   ]
  },
  {
   "cell_type": "code",
   "execution_count": 32,
   "id": "29a1e425-b09b-4f7b-90d3-dcdf6be07353",
   "metadata": {},
   "outputs": [],
   "source": [
    "res_df['next_year'] = res_df['date'].shift(1).dt.year\n",
    "res_df['next_month'] = res_df['date'].shift(1).dt.month"
   ]
  },
  {
   "cell_type": "code",
   "execution_count": 33,
   "id": "6882bfa2-54a0-4461-bd07-46f4ce53b449",
   "metadata": {},
   "outputs": [],
   "source": [
    "res_df = res_df.dropna()"
   ]
  },
  {
   "cell_type": "code",
   "execution_count": 34,
   "id": "828a3af0-d229-4367-860f-12bfe4639738",
   "metadata": {},
   "outputs": [],
   "source": [
    "res_df = res_df.groupby(['next_year', 'next_month'], as_index=False).agg(['sum', 'mean']).reset_index()\n",
    "res_df.columns = ['_'.join(col).strip() for col in res_df.columns.values]\n",
    "res_df = res_df.rename(columns={'next_year_': 'next_year', 'next_month_': 'next_month'})"
   ]
  },
  {
   "cell_type": "code",
   "execution_count": 35,
   "id": "b269edd7-1c91-4383-b42c-82858f691573",
   "metadata": {},
   "outputs": [],
   "source": [
    "dataset = dataset.merge(res_df, left_on=['cutoff_year', 'cutoff_month'], right_on=['next_year', 'next_month'], how='left')"
   ]
  },
  {
   "cell_type": "code",
   "execution_count": 36,
   "id": "eb81f86c-48d5-4957-b964-c17a2378a7f0",
   "metadata": {},
   "outputs": [],
   "source": [
    "dataset = dataset.drop(['next_year', 'next_month'], axis=1)"
   ]
  },
  {
   "cell_type": "markdown",
   "id": "c6fc9403-3245-4716-a161-76eec8cfbbb7",
   "metadata": {},
   "source": [
    "# Additional features"
   ]
  },
  {
   "cell_type": "code",
   "execution_count": 37,
   "id": "920c91c2-d340-40aa-b41f-92a437ca97bf",
   "metadata": {},
   "outputs": [],
   "source": [
    "rel_ages = dataset[['hash_tab_num', 'date', 'cutoff_date']]\n",
    "rel_ages = rel_ages.merge(relatives_history, on='hash_tab_num')\n",
    "rel_ages['cutoff_age'] = rel_ages['cutoff_date'].dt.year - rel_ages['rel_birth']"
   ]
  },
  {
   "cell_type": "code",
   "execution_count": 38,
   "id": "f479985b-59f6-4090-aa91-367de20f697a",
   "metadata": {},
   "outputs": [],
   "source": [
    "rel_ages['is_pensioner'] = 0\n",
    "rel_ages.loc[(rel_ages['cutoff_age'] > 55) & ~rel_ages['is_male'], 'is_pensioner'] = 1\n",
    "rel_ages.loc[(rel_ages['cutoff_age'] > 60) & rel_ages['is_male'], 'is_pensioner'] = 1\n",
    "rel_ages['is_predschool'] = 0\n",
    "rel_ages.loc[rel_ages['cutoff_age'] < 7, 'is_predschool'] = 1"
   ]
  },
  {
   "cell_type": "code",
   "execution_count": 39,
   "id": "3b9b50e4-4f15-4e10-9df1-04ca7af07d00",
   "metadata": {},
   "outputs": [],
   "source": [
    "rel_ages_1 = rel_ages.groupby(['hash_tab_num', 'date'])[['is_pensioner', 'is_predschool']].sum().reset_index()\n",
    "rel_ages_1 = rel_ages_1.rename(columns={'is_pensioner': 'n_pensioners', 'is_predschool': 'n_predschools'})\n",
    "mean_rel_age = rel_ages.groupby(['hash_tab_num', 'date'])['cutoff_age'].mean().reset_index()\n",
    "mean_rel_age = mean_rel_age.rename(columns={'cutoff_age': 'mean_rel_age'})"
   ]
  },
  {
   "cell_type": "code",
   "execution_count": 40,
   "id": "94504c37-7386-42b6-8d7a-ca7027a87af6",
   "metadata": {},
   "outputs": [],
   "source": [
    "dataset = dataset.merge(rel_ages_1, on=['hash_tab_num', 'date'], how='left')\n",
    "dataset = dataset.merge(mean_rel_age, on=['hash_tab_num', 'date'], how='left')"
   ]
  },
  {
   "cell_type": "code",
   "execution_count": 41,
   "id": "47758e64-c3c5-468d-9955-66f60b97dc13",
   "metadata": {},
   "outputs": [],
   "source": [
    "ogrvs = dataset[['hash_tab_num', 'date', 'cutoff_date']]\n",
    "ogrvs = ogrvs.merge(ogrv_history, left_on=['hash_tab_num', 'cutoff_date'], right_on=['hash_tab_num', 'date'], suffixes=(None, '_cutoff'))\n",
    "ogrvs = ogrvs.drop('date_cutoff', axis=1)"
   ]
  },
  {
   "cell_type": "code",
   "execution_count": 42,
   "id": "27acb451-8889-4656-bae2-5d51c6fb12a2",
   "metadata": {},
   "outputs": [],
   "source": [
    "ogrvs['is_smena'] = ogrvs['work_shift_type'].str.startswith('Смена').astype('int')\n",
    "n_watches = ogrvs.groupby(['hash_tab_num', 'cutoff_date'], as_index=False)['is_smena'].agg(['sum', 'mean']).reset_index()\n",
    "n_watches = n_watches.rename(columns={'sum': 'watches_sum', 'mean': 'watches_mean'})"
   ]
  },
  {
   "cell_type": "code",
   "execution_count": 43,
   "id": "09fa7278-885c-48b7-b46c-2624a8e6ce3c",
   "metadata": {},
   "outputs": [],
   "source": [
    "dataset = dataset.merge(n_watches, on=['hash_tab_num', 'cutoff_date'], how='left')"
   ]
  },
  {
   "cell_type": "code",
   "execution_count": 44,
   "id": "50f2843a-4067-423c-abf9-c3d64efde03c",
   "metadata": {},
   "outputs": [
    {
     "name": "stdout",
     "output_type": "stream",
     "text": [
      "<class 'pandas.core.frame.DataFrame'>\n",
      "Int64Index: 111287 entries, 0 to 111286\n",
      "Columns: 171 entries, hash_tab_num to watches_mean\n",
      "dtypes: category(13), datetime64[ns](2), float64(144), int64(12)\n",
      "memory usage: 136.4 MB\n"
     ]
    }
   ],
   "source": [
    "dataset.info()"
   ]
  },
  {
   "cell_type": "code",
   "execution_count": 45,
   "id": "18be00f9-ff0d-4cc8-a860-1714bdb4950f",
   "metadata": {},
   "outputs": [],
   "source": [
    "dataset.to_pickle('../data/interim/features.pkl')"
   ]
  },
  {
   "cell_type": "markdown",
   "id": "c9daf691-03c9-4cd9-aff7-7013cccd8448",
   "metadata": {},
   "source": [
    "# Target merging"
   ]
  },
  {
   "cell_type": "code",
   "execution_count": 57,
   "id": "28129172-8659-449c-af8b-c02c43e033f6",
   "metadata": {},
   "outputs": [],
   "source": [
    "train = dataset[dataset['date'] < '2019-09-01'].copy()\n",
    "test = dataset[dataset['date'] >= '2019-09-01'].copy()"
   ]
  },
  {
   "cell_type": "code",
   "execution_count": 58,
   "id": "9b9b03dc-0ee6-4a0b-8776-46dd613b2ddd",
   "metadata": {},
   "outputs": [],
   "source": [
    "train = train.merge(employee_history[['sick', 'hash_tab_num', 'date']], on=['hash_tab_num', 'date'], validate='1:1')"
   ]
  },
  {
   "cell_type": "code",
   "execution_count": 105,
   "id": "15767675-3c3f-4bbd-87ae-6bb6105166bf",
   "metadata": {},
   "outputs": [],
   "source": [
    "train.to_pickle('../data/preprocessed/train.pkl')\n",
    "test.to_pickle('../data/preprocessed/test.pkl')"
   ]
  }
 ],
 "metadata": {
  "kernelspec": {
   "display_name": "Python 3",
   "language": "python",
   "name": "python3"
  },
  "language_info": {
   "codemirror_mode": {
    "name": "ipython",
    "version": 3
   },
   "file_extension": ".py",
   "mimetype": "text/x-python",
   "name": "python",
   "nbconvert_exporter": "python",
   "pygments_lexer": "ipython3",
   "version": "3.8.8"
  }
 },
 "nbformat": 4,
 "nbformat_minor": 5
}
