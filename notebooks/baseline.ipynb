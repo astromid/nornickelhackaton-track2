{
 "cells": [
  {
   "cell_type": "code",
   "execution_count": 1,
   "metadata": {
    "ExecuteTime": {
     "end_time": "2021-04-14T07:02:41.777559Z",
     "start_time": "2021-04-14T07:02:38.420796Z"
    }
   },
   "outputs": [],
   "source": [
    "import pandas as pd\n",
    "import numpy as np\n",
    "from sklearn.ensemble import RandomForestClassifier\n",
    "from sklearn.model_selection import train_test_split\n",
    "from sklearn.metrics import precision_recall_curve\n",
    "\n",
    "pd.set_option('display.max_columns', 1000)\n",
    "pd.set_option('display.max_rows', 1000)"
   ]
  },
  {
   "cell_type": "code",
   "execution_count": 2,
   "metadata": {
    "ExecuteTime": {
     "end_time": "2021-04-14T07:02:43.795836Z",
     "start_time": "2021-04-14T07:02:41.777559Z"
    }
   },
   "outputs": [],
   "source": [
    "# Считывание данных\n",
    "\n",
    "sot = pd.read_csv('sotrudniki_hakaton_utf.csv', sep = ';')\n",
    "rod = pd.read_csv('rodstvenniki_hakaton_utf_v2.csv', sep = ';')\n",
    "ogrv = pd.read_csv('OGRV_hakaton_utf.csv', sep = ';')"
   ]
  },
  {
   "cell_type": "code",
   "execution_count": 3,
   "metadata": {
    "ExecuteTime": {
     "end_time": "2021-04-14T07:02:45.807434Z",
     "start_time": "2021-04-14T07:02:43.795836Z"
    }
   },
   "outputs": [],
   "source": [
    "# Создание вспомогательного датафрейма с информацией о количестве смен сотрудника в месяце\n",
    "\n",
    "ogrv['month'] = ogrv['date'].map(lambda x: x[0:8] + str('01'))\n",
    "kolvo_smen = ogrv[ogrv.work_shift_type.isin(['Смена 1', 'Смена 2', 'Смена 3'])]\\\n",
    "[['hash_tab_num','month','work_shift_type']].groupby(['hash_tab_num','month']).agg('count').reset_index()\n",
    "kolvo_smen.columns = ['hash_tab_num', 'date', 'work_shift_type_count']"
   ]
  },
  {
   "cell_type": "code",
   "execution_count": 4,
   "metadata": {
    "ExecuteTime": {
     "end_time": "2021-04-14T07:02:45.928338Z",
     "start_time": "2021-04-14T07:02:45.807434Z"
    }
   },
   "outputs": [],
   "source": [
    "# Создание вспомогательного датафрейма с информацией о факте больничного в текущем месяце\n",
    "\n",
    "kolvo_bolni4 = ogrv[ogrv.graphic_rule_level_1.isin(['Больничный'])]\\\n",
    "[['hash_tab_num','month','graphic_rule_level_1']].groupby(['hash_tab_num','month']).agg('count').reset_index()\n",
    "\n",
    "kolvo_bolni4['graphic_rule_level_1'] = 1\n",
    "kolvo_bolni4.columns = ['hash_tab_num', 'date', 'sick']"
   ]
  },
  {
   "cell_type": "code",
   "execution_count": 5,
   "metadata": {
    "ExecuteTime": {
     "end_time": "2021-04-14T07:02:46.007845Z",
     "start_time": "2021-04-14T07:02:45.928338Z"
    }
   },
   "outputs": [
    {
     "name": "stderr",
     "output_type": "stream",
     "text": [
      "C:\\ProgramData\\Anaconda3\\lib\\site-packages\\pandas\\core\\generic.py:4401: SettingWithCopyWarning: \n",
      "A value is trying to be set on a copy of a slice from a DataFrame.\n",
      "Try using .loc[row_indexer,col_indexer] = value instead\n",
      "\n",
      "See the caveats in the documentation: http://pandas.pydata.org/pandas-docs/stable/indexing.html#indexing-view-versus-copy\n",
      "  self[name] = value\n"
     ]
    }
   ],
   "source": [
    "# Базовый датафремй\n",
    "\n",
    "sot_data = sot[['hash_tab_num','date','category','gender','razryad_fact','work_experience_company',\n",
    "                'name_fact_lvl5','education','home_to_work_distance']]\n",
    "sot_data.gender = sot_data['gender'].map(lambda x: 1 if x == 'мужской' else 0)"
   ]
  },
  {
   "cell_type": "code",
   "execution_count": 6,
   "metadata": {
    "ExecuteTime": {
     "end_time": "2021-04-14T07:02:46.244033Z",
     "start_time": "2021-04-14T07:02:46.007845Z"
    }
   },
   "outputs": [],
   "source": [
    "# Создание вспомогательно датасета с информацией о родственниках - пенсионерах\n",
    "# (55 лет для женщин и 60 лет для мужчин для региона севера)\n",
    "\n",
    "sot_data = pd.merge(sot_data,rod, how = 'left', on = 'hash_tab_num')\n",
    "sot_data['rel_cur_old'] = ([int(x[0:4]) for x in sot_data['date']] - sot_data['rel_birth'])\n",
    "sot_data['rel_is_male'] = sot_data.rel_type.map(lambda x:1 if x \\\n",
    "    in ['Сын', 'Муж', 'Отец', 'Пасынок', 'Внук','Брат'] else 0)\n",
    "\n",
    "retiree = sot_data[((sot_data.rel_cur_old > 55) & (sot_data.rel_is_male == 0) \\\n",
    "               | (sot_data.rel_cur_old > 60) & (sot_data.rel_is_male == 1))]\\\n",
    "    [['hash_tab_num','date','rel_is_male']].groupby(['hash_tab_num','date']).agg('count').reset_index()\n",
    "sot_data.drop(['rel_type','rel_birth','rel_cur_old','rel_is_male'], axis = 1, inplace = True)"
   ]
  },
  {
   "cell_type": "code",
   "execution_count": 7,
   "metadata": {
    "ExecuteTime": {
     "end_time": "2021-04-14T07:02:46.308974Z",
     "start_time": "2021-04-14T07:02:46.244033Z"
    }
   },
   "outputs": [],
   "source": [
    "# Создание вспомогательно датасета с информацией о количестве сотрудников в подразделении\n",
    "# по фактическому месту работы\n",
    "\n",
    "division_count = sot_data[['hash_tab_num','date','name_fact_lvl5']].\\\n",
    "groupby(['name_fact_lvl5','date']).agg('count').reset_index()\n",
    "\n",
    "division_count.columns = ['name_fact_lvl5', 'date', 'personel_num']\n",
    "\n",
    "sot_data = pd.merge(sot_data, division_count, how = 'left', on = ['date','name_fact_lvl5'])"
   ]
  },
  {
   "cell_type": "code",
   "execution_count": 8,
   "metadata": {
    "ExecuteTime": {
     "end_time": "2021-04-14T07:02:46.403853Z",
     "start_time": "2021-04-14T07:02:46.308974Z"
    }
   },
   "outputs": [],
   "source": [
    "# Создание dummy переменных\n",
    "\n",
    "sot_data.education = sot_data['education']\\\n",
    ".map(lambda x: 'Высшее' if x in ['Высшее образование','Высшее-бакалавриат','Высшее-специалитет'] else(\\\n",
    "'Среднее_профессинальное' if x in ['Ср.профессиональное','Нач.профессиональное'] else 'Начальное_среднее'))\n",
    "sot_data = pd.get_dummies(sot_data, columns = ['category','education','razryad_fact'])\\\n",
    ".drop('name_fact_lvl5', axis = 1)"
   ]
  },
  {
   "cell_type": "code",
   "execution_count": 9,
   "metadata": {
    "ExecuteTime": {
     "end_time": "2021-04-14T07:02:46.605812Z",
     "start_time": "2021-04-14T07:02:46.403853Z"
    }
   },
   "outputs": [],
   "source": [
    "# Создание единого датасета для будущего использования в модели\n",
    "\n",
    "merged_data = pd.merge(sot_data, retiree, how = 'left', on = ['hash_tab_num','date'])\n",
    "merged_data = pd.merge(merged_data, kolvo_smen, how = 'left', on = ['hash_tab_num','date'])\n",
    "merged_data = pd.merge(merged_data, kolvo_bolni4, how = 'left', on = ['hash_tab_num','date'])\n",
    "merged_data = merged_data.drop_duplicates()"
   ]
  },
  {
   "cell_type": "code",
   "execution_count": 10,
   "metadata": {
    "ExecuteTime": {
     "end_time": "2021-04-14T07:03:38.403227Z",
     "start_time": "2021-04-14T07:02:46.605812Z"
    }
   },
   "outputs": [],
   "source": [
    "# Создание 12ти столбцов с датами будущих периодов для формирования таргетов\n",
    "\n",
    "merged_data['sick'] = merged_data['sick'].fillna(0)\n",
    "merged_data['target_dates'] = merged_data['date'].apply(lambda x: pd.date_range((x),\\\n",
    "    periods = 13, freq='1MS',closed = 'right'))\n",
    "new_target_dates = pd.DataFrame(merged_data['target_dates'].tolist(), \\\n",
    "    columns = ['y_dt_'+str(i) for i in range(1,13)], index = merged_data.index)\n",
    "merged_data = pd.merge(merged_data,new_target_dates, left_index=True, right_index=True)\n",
    "merged_data.drop(['target_dates'],axis = 1, inplace = True)\n",
    "merged_data['date'] = pd.to_datetime(merged_data['date'])"
   ]
  },
  {
   "cell_type": "code",
   "execution_count": 11,
   "metadata": {
    "ExecuteTime": {
     "end_time": "2021-04-14T07:03:39.558365Z",
     "start_time": "2021-04-14T07:03:38.403227Z"
    }
   },
   "outputs": [],
   "source": [
    "# Присоединение данных о больничных к будущим периодам созданным на предыдущем шаге\n",
    "\n",
    "for i in range(1,13):\n",
    "    dt_col_name = 'y_dt_'+str(i)\n",
    "    y_col_name = 'y_'+str(i)\n",
    "    \n",
    "    targets_tmp = merged_data[['date','hash_tab_num','sick']]\n",
    "    targets_tmp.columns = [dt_col_name, 'hash_tab_num', y_col_name]\n",
    "    \n",
    "    merged_data = pd.merge(merged_data, targets_tmp, how = 'left', on = [dt_col_name, 'hash_tab_num'])\n",
    "    \n",
    "    merged_data.drop(dt_col_name, axis = 1, inplace = True)"
   ]
  },
  {
   "cell_type": "code",
   "execution_count": 12,
   "metadata": {
    "ExecuteTime": {
     "end_time": "2021-04-14T07:03:39.588241Z",
     "start_time": "2021-04-14T07:03:39.558365Z"
    }
   },
   "outputs": [],
   "source": [
    "# Деление на трейн и тест для последующего прогноза\n",
    "\n",
    "train = merged_data[merged_data.date < pd.to_datetime('2019-08-01')]\n",
    "submission_extra = merged_data[merged_data.date == pd.to_datetime('2019-08-01')]\n",
    "submission_extra.index = range(len(submission_extra))"
   ]
  },
  {
   "cell_type": "code",
   "execution_count": 13,
   "metadata": {
    "ExecuteTime": {
     "end_time": "2021-04-14T07:04:35.002268Z",
     "start_time": "2021-04-14T07:03:39.588241Z"
    }
   },
   "outputs": [
    {
     "name": "stderr",
     "output_type": "stream",
     "text": [
      "C:\\ProgramData\\Anaconda3\\lib\\site-packages\\ipykernel_launcher.py:29: RuntimeWarning: invalid value encountered in true_divide\n",
      "C:\\ProgramData\\Anaconda3\\lib\\site-packages\\ipykernel_launcher.py:29: RuntimeWarning: invalid value encountered in true_divide\n"
     ]
    }
   ],
   "source": [
    "# Обучение модели 12 раз с осуществлением предсказания на 12 месяцев.\n",
    "\n",
    "submission_extra_pred = pd.DataFrame()\n",
    "for i in range(1,13):\n",
    "    y_col_name = 'y_' + str(i) \n",
    "    X = train.dropna(subset=[y_col_name])\\\n",
    "    .drop(['y_1', 'y_2', 'y_3', 'y_4', 'y_5', 'y_6', \n",
    "        'y_7', 'y_8', 'y_9', 'y_10', 'y_11', 'y_12',\n",
    "        'date', 'hash_tab_num'], axis = 1)\n",
    "    \n",
    "    X.fillna(0, inplace=True)\n",
    "    \n",
    "    y = train.dropna(subset=[y_col_name])[y_col_name]\n",
    "    \n",
    "    X_train, X_test, y_train, y_test = train_test_split(X, y, test_size=0.33, random_state=42, \n",
    "                                                        shuffle=True, stratify=y)\n",
    "\n",
    "    X_submission_extra = submission_extra\\\n",
    "    .drop(['y_1', 'y_2', 'y_3', 'y_4', 'y_5', 'y_6', \n",
    "        'y_7', 'y_8', 'y_9', 'y_10', 'y_11', 'y_12',\n",
    "        'date', 'hash_tab_num'], axis = 1)\n",
    "\n",
    "    X_submission_extra.fillna(0, inplace=True)\n",
    "\n",
    "    model = RandomForestClassifier()\n",
    "\n",
    "    model.fit(X_train, y_train)\n",
    "\n",
    "    \n",
    "    p, r, thresholds = precision_recall_curve(y_test, model.predict_proba(X_test)[:,1])\n",
    "    f1_scores = 2*r*p / (r+p)\n",
    "    f1_scores = f1_scores[p > 0]\n",
    "    th = thresholds[np.argmax(f1_scores)]\n",
    "\n",
    "    submission_extra_pred[y_col_name] = (model.predict_proba(X_submission_extra)[:,1] >= th).astype(int)\n",
    "\n",
    "submission_extra_pred['hash_tab_num'] = submission_extra['hash_tab_num']"
   ]
  },
  {
   "cell_type": "code",
   "execution_count": 14,
   "metadata": {
    "ExecuteTime": {
     "end_time": "2021-04-14T07:04:35.072947Z",
     "start_time": "2021-04-14T07:04:35.002268Z"
    }
   },
   "outputs": [],
   "source": [
    "# Представление результата работы модели в плоский вид\n",
    "\n",
    "one_line_sub = pd.DataFrame(columns = ['hash_tab_num','date','target'])\n",
    "for i in range(1,13):\n",
    "    temp_result = pd.DataFrame(columns = ['hash_tab_num','date','target'])\n",
    "    temp_result['hash_tab_num'] = submission_extra_pred['hash_tab_num']\n",
    "    temp_result['date'] = pd.to_datetime('2019-09-01') + pd.DateOffset(months=i-1)\n",
    "    temp_result['target'] = submission_extra_pred['y_' + str(i)]\n",
    "    one_line_sub = pd.concat([one_line_sub, temp_result], axis = 0)"
   ]
  },
  {
   "cell_type": "code",
   "execution_count": 15,
   "metadata": {
    "ExecuteTime": {
     "end_time": "2021-04-14T07:04:35.103254Z",
     "start_time": "2021-04-14T07:04:35.072947Z"
    }
   },
   "outputs": [
    {
     "data": {
      "text/html": [
       "<div>\n",
       "<style scoped>\n",
       "    .dataframe tbody tr th:only-of-type {\n",
       "        vertical-align: middle;\n",
       "    }\n",
       "\n",
       "    .dataframe tbody tr th {\n",
       "        vertical-align: top;\n",
       "    }\n",
       "\n",
       "    .dataframe thead th {\n",
       "        text-align: right;\n",
       "    }\n",
       "</style>\n",
       "<table border=\"1\" class=\"dataframe\">\n",
       "  <thead>\n",
       "    <tr style=\"text-align: right;\">\n",
       "      <th></th>\n",
       "      <th>hash_tab_num</th>\n",
       "      <th>date</th>\n",
       "      <th>target</th>\n",
       "    </tr>\n",
       "  </thead>\n",
       "  <tbody>\n",
       "    <tr>\n",
       "      <th>0</th>\n",
       "      <td>0</td>\n",
       "      <td>2019-09-01</td>\n",
       "      <td>1</td>\n",
       "    </tr>\n",
       "    <tr>\n",
       "      <th>1</th>\n",
       "      <td>1</td>\n",
       "      <td>2019-09-01</td>\n",
       "      <td>0</td>\n",
       "    </tr>\n",
       "    <tr>\n",
       "      <th>2</th>\n",
       "      <td>2</td>\n",
       "      <td>2019-09-01</td>\n",
       "      <td>0</td>\n",
       "    </tr>\n",
       "    <tr>\n",
       "      <th>3</th>\n",
       "      <td>3</td>\n",
       "      <td>2019-09-01</td>\n",
       "      <td>0</td>\n",
       "    </tr>\n",
       "    <tr>\n",
       "      <th>4</th>\n",
       "      <td>4</td>\n",
       "      <td>2019-09-01</td>\n",
       "      <td>1</td>\n",
       "    </tr>\n",
       "  </tbody>\n",
       "</table>\n",
       "</div>"
      ],
      "text/plain": [
       "  hash_tab_num       date target\n",
       "0            0 2019-09-01      1\n",
       "1            1 2019-09-01      0\n",
       "2            2 2019-09-01      0\n",
       "3            3 2019-09-01      0\n",
       "4            4 2019-09-01      1"
      ]
     },
     "execution_count": 15,
     "metadata": {},
     "output_type": "execute_result"
    }
   ],
   "source": [
    "one_line_sub.head()"
   ]
  },
  {
   "cell_type": "code",
   "execution_count": 30,
   "metadata": {
    "ExecuteTime": {
     "end_time": "2021-04-14T07:14:29.732723Z",
     "start_time": "2021-04-14T07:14:29.685860Z"
    }
   },
   "outputs": [
    {
     "data": {
      "text/html": [
       "<div>\n",
       "<style scoped>\n",
       "    .dataframe tbody tr th:only-of-type {\n",
       "        vertical-align: middle;\n",
       "    }\n",
       "\n",
       "    .dataframe tbody tr th {\n",
       "        vertical-align: top;\n",
       "    }\n",
       "\n",
       "    .dataframe thead th {\n",
       "        text-align: right;\n",
       "    }\n",
       "</style>\n",
       "<table border=\"1\" class=\"dataframe\">\n",
       "  <thead>\n",
       "    <tr style=\"text-align: right;\">\n",
       "      <th></th>\n",
       "      <th>hash_tab_num</th>\n",
       "      <th>date</th>\n",
       "    </tr>\n",
       "  </thead>\n",
       "  <tbody>\n",
       "    <tr>\n",
       "      <th>0</th>\n",
       "      <td>0</td>\n",
       "      <td>2019-09-01</td>\n",
       "    </tr>\n",
       "    <tr>\n",
       "      <th>1</th>\n",
       "      <td>0</td>\n",
       "      <td>2019-10-01</td>\n",
       "    </tr>\n",
       "    <tr>\n",
       "      <th>2</th>\n",
       "      <td>0</td>\n",
       "      <td>2019-11-01</td>\n",
       "    </tr>\n",
       "    <tr>\n",
       "      <th>3</th>\n",
       "      <td>0</td>\n",
       "      <td>2019-12-01</td>\n",
       "    </tr>\n",
       "    <tr>\n",
       "      <th>4</th>\n",
       "      <td>0</td>\n",
       "      <td>2020-01-01</td>\n",
       "    </tr>\n",
       "  </tbody>\n",
       "</table>\n",
       "</div>"
      ],
      "text/plain": [
       "   hash_tab_num       date\n",
       "0             0 2019-09-01\n",
       "1             0 2019-10-01\n",
       "2             0 2019-11-01\n",
       "3             0 2019-12-01\n",
       "4             0 2020-01-01"
      ]
     },
     "execution_count": 30,
     "metadata": {},
     "output_type": "execute_result"
    }
   ],
   "source": [
    "# Подготовка файла submission\n",
    "submission = pd.read_csv('submission_check_.csv', sep = ';')\n",
    "submission.date = pd.to_datetime(submission.date, format='%Y-%m-%d')\n",
    "submission.drop('target', axis =1, inplace = True)\n",
    "submission.head()"
   ]
  },
  {
   "cell_type": "code",
   "execution_count": 31,
   "metadata": {
    "ExecuteTime": {
     "end_time": "2021-04-14T07:14:38.290562Z",
     "start_time": "2021-04-14T07:14:38.259646Z"
    }
   },
   "outputs": [],
   "source": [
    "one_line_sub['hash_tab_num'] = pd.to_numeric(one_line_sub['hash_tab_num'])\n",
    "submission_final = pd.merge(submission, one_line_sub, how = 'left', on = ['hash_tab_num','date'])\n"
   ]
  },
  {
   "cell_type": "code",
   "execution_count": 32,
   "metadata": {
    "ExecuteTime": {
     "end_time": "2021-04-14T07:14:39.180187Z",
     "start_time": "2021-04-14T07:14:39.164563Z"
    }
   },
   "outputs": [
    {
     "data": {
      "text/html": [
       "<div>\n",
       "<style scoped>\n",
       "    .dataframe tbody tr th:only-of-type {\n",
       "        vertical-align: middle;\n",
       "    }\n",
       "\n",
       "    .dataframe tbody tr th {\n",
       "        vertical-align: top;\n",
       "    }\n",
       "\n",
       "    .dataframe thead th {\n",
       "        text-align: right;\n",
       "    }\n",
       "</style>\n",
       "<table border=\"1\" class=\"dataframe\">\n",
       "  <thead>\n",
       "    <tr style=\"text-align: right;\">\n",
       "      <th></th>\n",
       "      <th>hash_tab_num</th>\n",
       "      <th>date</th>\n",
       "      <th>target</th>\n",
       "    </tr>\n",
       "  </thead>\n",
       "  <tbody>\n",
       "    <tr>\n",
       "      <th>0</th>\n",
       "      <td>0</td>\n",
       "      <td>2019-09-01</td>\n",
       "      <td>1</td>\n",
       "    </tr>\n",
       "    <tr>\n",
       "      <th>1</th>\n",
       "      <td>0</td>\n",
       "      <td>2019-10-01</td>\n",
       "      <td>1</td>\n",
       "    </tr>\n",
       "    <tr>\n",
       "      <th>2</th>\n",
       "      <td>0</td>\n",
       "      <td>2019-11-01</td>\n",
       "      <td>1</td>\n",
       "    </tr>\n",
       "    <tr>\n",
       "      <th>3</th>\n",
       "      <td>0</td>\n",
       "      <td>2019-12-01</td>\n",
       "      <td>1</td>\n",
       "    </tr>\n",
       "    <tr>\n",
       "      <th>4</th>\n",
       "      <td>0</td>\n",
       "      <td>2020-01-01</td>\n",
       "      <td>1</td>\n",
       "    </tr>\n",
       "  </tbody>\n",
       "</table>\n",
       "</div>"
      ],
      "text/plain": [
       "   hash_tab_num       date target\n",
       "0             0 2019-09-01      1\n",
       "1             0 2019-10-01      1\n",
       "2             0 2019-11-01      1\n",
       "3             0 2019-12-01      1\n",
       "4             0 2020-01-01      1"
      ]
     },
     "execution_count": 32,
     "metadata": {},
     "output_type": "execute_result"
    }
   ],
   "source": [
    "submission_final.head()"
   ]
  },
  {
   "cell_type": "code",
   "execution_count": 33,
   "metadata": {
    "ExecuteTime": {
     "end_time": "2021-04-14T07:14:45.661506Z",
     "start_time": "2021-04-14T07:14:45.510706Z"
    }
   },
   "outputs": [],
   "source": [
    "submission_final.to_csv('my_submission.csv', sep=';', index=False)"
   ]
  }
 ],
 "metadata": {
  "kernelspec": {
   "display_name": "Python 3",
   "language": "python",
   "name": "python3"
  },
  "language_info": {
   "codemirror_mode": {
    "name": "ipython",
    "version": 3
   },
   "file_extension": ".py",
   "mimetype": "text/x-python",
   "name": "python",
   "nbconvert_exporter": "python",
   "pygments_lexer": "ipython3",
   "version": "3.8.8"
  },
  "toc": {
   "base_numbering": 1,
   "nav_menu": {},
   "number_sections": true,
   "sideBar": true,
   "skip_h1_title": false,
   "title_cell": "Table of Contents",
   "title_sidebar": "Contents",
   "toc_cell": false,
   "toc_position": {},
   "toc_section_display": true,
   "toc_window_display": true
  }
 },
 "nbformat": 4,
 "nbformat_minor": 4
}
