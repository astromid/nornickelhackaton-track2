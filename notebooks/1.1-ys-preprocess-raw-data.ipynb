{
 "cells": [
  {
   "cell_type": "code",
   "execution_count": 1,
   "id": "4f0e1143-90b6-4020-a225-cc55b80a207c",
   "metadata": {},
   "outputs": [],
   "source": [
    "from pathlib import Path\n",
    "\n",
    "import numpy as np\n",
    "import pandas as pd"
   ]
  },
  {
   "cell_type": "code",
   "execution_count": 2,
   "id": "a7732baf-cc2f-44b2-a760-0b4bfcd11639",
   "metadata": {},
   "outputs": [],
   "source": [
    "DATA_PATH = Path('../data/raw/')"
   ]
  },
  {
   "cell_type": "code",
   "execution_count": 3,
   "id": "4b42902a-a38c-4404-924f-108c3247b742",
   "metadata": {},
   "outputs": [],
   "source": [
    "employee_df = pd.read_csv(DATA_PATH / 'sotrudniki.csv', sep=';', parse_dates=['date'])\n",
    "relatives_df = pd.read_csv(DATA_PATH / 'rodstvenniki.csv', sep=';')\n",
    "ogrv_df = pd.read_csv(DATA_PATH / 'OGRV.csv', sep=';', parse_dates=['date'])"
   ]
  },
  {
   "cell_type": "code",
   "execution_count": 4,
   "id": "a038820d-21e9-4892-9a7f-c64d25fe7725",
   "metadata": {},
   "outputs": [],
   "source": [
    "def preprocess_employee(df):\n",
    "    df['gender'] = df['gender'].map({'мужской': 0, 'женский': 1})\n",
    "    df['category'] = df['category'].astype('category')\n",
    "    df['name_post_lvl4'] = df['name_post_lvl4'].astype('category')\n",
    "    df['name_post_lvl5'] = df['name_post_lvl5'].astype('category')\n",
    "    df['prof_post_augment'] = df['prof_post_augment'].astype('category')\n",
    "    df['name_fact_lvl4'] = df['name_fact_lvl4'].astype('category')\n",
    "    df['name_fact_lvl5'] = df['name_fact_lvl5'].astype('category')\n",
    "    df['prof_fact_augment'] = df['prof_fact_augment'].astype('category')\n",
    "    df['is_married'] = df['married'].map({'жен/зм': 1, 'ГрБрак': 1, 'хол/нз': 0, 'разв.': 0, 'вдов.': 0})\n",
    "    df['education'] = df['education'].astype('category')\n",
    "    return df"
   ]
  },
  {
   "cell_type": "code",
   "execution_count": 5,
   "id": "1428da93-d9bf-4b20-9f4c-d2285a73ed2b",
   "metadata": {},
   "outputs": [],
   "source": [
    "def preprocess_relatives(df):\n",
    "    df['rel_type'] = df['rel_type'].astype('category')\n",
    "    df = df.drop_duplicates()\n",
    "    return df"
   ]
  },
  {
   "cell_type": "code",
   "execution_count": 6,
   "id": "10644703-b4b6-4165-9402-ad93b97ee7ed",
   "metadata": {},
   "outputs": [],
   "source": [
    "def preprocess_ogrv(df):\n",
    "    df['graphic_rule_level_2'] = df['graphic_rule_level_2'].astype('category')\n",
    "    df['graphic_rule_level_1'] = df['graphic_rule_level_1'].astype('category')\n",
    "    df['work_shift_type'] = df['work_shift_type'].astype('category')\n",
    "    ogrv_df['number_of_working_hours'] = pd.to_numeric(ogrv_df['number_of_working_hours'].str.replace(',', '.'))\n",
    "    return df"
   ]
  },
  {
   "cell_type": "code",
   "execution_count": 7,
   "id": "cd769154-23fa-4bd5-8951-d81c36b59ed4",
   "metadata": {},
   "outputs": [],
   "source": [
    "employee_df = preprocess_employee(employee_df)\n",
    "relatives_df = preprocess_relatives(relatives_df)\n",
    "ogrv_df = preprocess_ogrv(ogrv_df)"
   ]
  },
  {
   "cell_type": "code",
   "execution_count": 12,
   "id": "fec89a79-ec61-4e1f-8e14-0494071d1869",
   "metadata": {},
   "outputs": [],
   "source": [
    "employee_df.to_pickle('../data/interim/employee.pkl')\n",
    "relatives_df.to_pickle('../data/interim/relatives.pkl')\n",
    "ogrv_df.to_pickle('../data/interim/ogrv.pkl')"
   ]
  },
  {
   "cell_type": "code",
   "execution_count": null,
   "id": "2dcd5994-3f58-4f60-befa-4e63f17acd45",
   "metadata": {},
   "outputs": [],
   "source": []
  }
 ],
 "metadata": {
  "kernelspec": {
   "display_name": "Python 3",
   "language": "python",
   "name": "python3"
  },
  "language_info": {
   "codemirror_mode": {
    "name": "ipython",
    "version": 3
   },
   "file_extension": ".py",
   "mimetype": "text/x-python",
   "name": "python",
   "nbconvert_exporter": "python",
   "pygments_lexer": "ipython3",
   "version": "3.8.8"
  }
 },
 "nbformat": 4,
 "nbformat_minor": 5
}
